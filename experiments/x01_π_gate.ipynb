{
 "cells": [
  {
   "cell_type": "code",
   "execution_count": 1,
   "metadata": {},
   "outputs": [],
   "source": [
    "import os\n",
    "import sys\n",
    "import warnings\n",
    "warnings.filterwarnings('ignore')"
   ]
  },
  {
   "cell_type": "code",
   "execution_count": 2,
   "metadata": {},
   "outputs": [
    {
     "name": "stdout",
     "output_type": "stream",
     "text": [
      "['/Users/khatran/anaconda3/envs/quantum/lib/python3.11', '/Users/khatran/anaconda3/envs/quantum/lib/python3.11/lib-dynload', '', '/Users/khatran/anaconda3/envs/quantum/lib/python3.11/site-packages', '/Users/khatran/Documents/Research Work/Quantum Computing/GRAPE-for-qubit/experiments', '/Users/khatran/Documents/Research Work/Quantum Computing/GRAPE-for-qubit/output', '/Users/khatran/Documents/Research Work/Quantum Computing/GRAPE-for-qubit/quantum_optimal_control', '/Users/khatran/Documents/Research Work/Quantum Computing/GRAPE-for-qubit/.git', '/Users/khatran/Documents/Research Work/Quantum Computing/GRAPE-for-qubit/.vscode', '/Users/khatran/Documents/Research Work/Quantum Computing/GRAPE-for-qubit/experiments/x01_gate_lagos', '/Users/khatran/Documents/Research Work/Quantum Computing/GRAPE-for-qubit/output/x01_π', '/Users/khatran/Documents/Research Work/Quantum Computing/GRAPE-for-qubit/output/x01_90', '/Users/khatran/Documents/Research Work/Quantum Computing/GRAPE-for-qubit/output/x01_π_qutrit', '/Users/khatran/Documents/Research Work/Quantum Computing/GRAPE-for-qubit/output/x01_qutrit', '/Users/khatran/Documents/Research Work/Quantum Computing/GRAPE-for-qubit/quantum_optimal_control/main_grape', '/Users/khatran/Documents/Research Work/Quantum Computing/GRAPE-for-qubit/quantum_optimal_control/core', '/Users/khatran/Documents/Research Work/Quantum Computing/GRAPE-for-qubit/quantum_optimal_control/helper_functions', '/Users/khatran/Documents/Research Work/Quantum Computing/GRAPE-for-qubit/quantum_optimal_control/__pycache__', '/Users/khatran/Documents/Research Work/Quantum Computing/GRAPE-for-qubit/quantum_optimal_control/main_grape/__pycache__', '/Users/khatran/Documents/Research Work/Quantum Computing/GRAPE-for-qubit/quantum_optimal_control/core/__pycache__', '/Users/khatran/Documents/Research Work/Quantum Computing/GRAPE-for-qubit/quantum_optimal_control/helper_functions/__pycache__', '/Users/khatran/Documents/Research Work/Quantum Computing/GRAPE-for-qubit/.git/objects', '/Users/khatran/Documents/Research Work/Quantum Computing/GRAPE-for-qubit/.git/info', '/Users/khatran/Documents/Research Work/Quantum Computing/GRAPE-for-qubit/.git/logs', '/Users/khatran/Documents/Research Work/Quantum Computing/GRAPE-for-qubit/.git/hooks', '/Users/khatran/Documents/Research Work/Quantum Computing/GRAPE-for-qubit/.git/refs', '/Users/khatran/Documents/Research Work/Quantum Computing/GRAPE-for-qubit/.git/branches', '/Users/khatran/Documents/Research Work/Quantum Computing/GRAPE-for-qubit/.git/objects/0d', '/Users/khatran/Documents/Research Work/Quantum Computing/GRAPE-for-qubit/.git/objects/95', '/Users/khatran/Documents/Research Work/Quantum Computing/GRAPE-for-qubit/.git/objects/66', '/Users/khatran/Documents/Research Work/Quantum Computing/GRAPE-for-qubit/.git/objects/3e', '/Users/khatran/Documents/Research Work/Quantum Computing/GRAPE-for-qubit/.git/objects/50', '/Users/khatran/Documents/Research Work/Quantum Computing/GRAPE-for-qubit/.git/objects/68', '/Users/khatran/Documents/Research Work/Quantum Computing/GRAPE-for-qubit/.git/objects/57', '/Users/khatran/Documents/Research Work/Quantum Computing/GRAPE-for-qubit/.git/objects/03', '/Users/khatran/Documents/Research Work/Quantum Computing/GRAPE-for-qubit/.git/objects/9b', '/Users/khatran/Documents/Research Work/Quantum Computing/GRAPE-for-qubit/.git/objects/9e', '/Users/khatran/Documents/Research Work/Quantum Computing/GRAPE-for-qubit/.git/objects/32', '/Users/khatran/Documents/Research Work/Quantum Computing/GRAPE-for-qubit/.git/objects/3c', '/Users/khatran/Documents/Research Work/Quantum Computing/GRAPE-for-qubit/.git/objects/3d', '/Users/khatran/Documents/Research Work/Quantum Computing/GRAPE-for-qubit/.git/objects/58', '/Users/khatran/Documents/Research Work/Quantum Computing/GRAPE-for-qubit/.git/objects/67', '/Users/khatran/Documents/Research Work/Quantum Computing/GRAPE-for-qubit/.git/objects/93', '/Users/khatran/Documents/Research Work/Quantum Computing/GRAPE-for-qubit/.git/objects/94', '/Users/khatran/Documents/Research Work/Quantum Computing/GRAPE-for-qubit/.git/objects/60', '/Users/khatran/Documents/Research Work/Quantum Computing/GRAPE-for-qubit/.git/objects/34', '/Users/khatran/Documents/Research Work/Quantum Computing/GRAPE-for-qubit/.git/objects/5f', '/Users/khatran/Documents/Research Work/Quantum Computing/GRAPE-for-qubit/.git/objects/9d', '/Users/khatran/Documents/Research Work/Quantum Computing/GRAPE-for-qubit/.git/objects/9c', '/Users/khatran/Documents/Research Work/Quantum Computing/GRAPE-for-qubit/.git/objects/a4', '/Users/khatran/Documents/Research Work/Quantum Computing/GRAPE-for-qubit/.git/objects/a3', '/Users/khatran/Documents/Research Work/Quantum Computing/GRAPE-for-qubit/.git/objects/b2', '/Users/khatran/Documents/Research Work/Quantum Computing/GRAPE-for-qubit/.git/objects/bb', '/Users/khatran/Documents/Research Work/Quantum Computing/GRAPE-for-qubit/.git/objects/d7', '/Users/khatran/Documents/Research Work/Quantum Computing/GRAPE-for-qubit/.git/objects/d0', '/Users/khatran/Documents/Research Work/Quantum Computing/GRAPE-for-qubit/.git/objects/be', '/Users/khatran/Documents/Research Work/Quantum Computing/GRAPE-for-qubit/.git/objects/b3', '/Users/khatran/Documents/Research Work/Quantum Computing/GRAPE-for-qubit/.git/objects/df', '/Users/khatran/Documents/Research Work/Quantum Computing/GRAPE-for-qubit/.git/objects/a2', '/Users/khatran/Documents/Research Work/Quantum Computing/GRAPE-for-qubit/.git/objects/d1', '/Users/khatran/Documents/Research Work/Quantum Computing/GRAPE-for-qubit/.git/objects/bc', '/Users/khatran/Documents/Research Work/Quantum Computing/GRAPE-for-qubit/.git/objects/d8', '/Users/khatran/Documents/Research Work/Quantum Computing/GRAPE-for-qubit/.git/objects/f4', '/Users/khatran/Documents/Research Work/Quantum Computing/GRAPE-for-qubit/.git/objects/eb', '/Users/khatran/Documents/Research Work/Quantum Computing/GRAPE-for-qubit/.git/objects/c7', '/Users/khatran/Documents/Research Work/Quantum Computing/GRAPE-for-qubit/.git/objects/c0', '/Users/khatran/Documents/Research Work/Quantum Computing/GRAPE-for-qubit/.git/objects/ee', '/Users/khatran/Documents/Research Work/Quantum Computing/GRAPE-for-qubit/.git/objects/fc', '/Users/khatran/Documents/Research Work/Quantum Computing/GRAPE-for-qubit/.git/objects/f5', '/Users/khatran/Documents/Research Work/Quantum Computing/GRAPE-for-qubit/.git/objects/e3', '/Users/khatran/Documents/Research Work/Quantum Computing/GRAPE-for-qubit/.git/objects/cf', '/Users/khatran/Documents/Research Work/Quantum Computing/GRAPE-for-qubit/.git/objects/ca', '/Users/khatran/Documents/Research Work/Quantum Computing/GRAPE-for-qubit/.git/objects/e4', '/Users/khatran/Documents/Research Work/Quantum Computing/GRAPE-for-qubit/.git/objects/fe', '/Users/khatran/Documents/Research Work/Quantum Computing/GRAPE-for-qubit/.git/objects/c8', '/Users/khatran/Documents/Research Work/Quantum Computing/GRAPE-for-qubit/.git/objects/fb', '/Users/khatran/Documents/Research Work/Quantum Computing/GRAPE-for-qubit/.git/objects/ed', '/Users/khatran/Documents/Research Work/Quantum Computing/GRAPE-for-qubit/.git/objects/c6', '/Users/khatran/Documents/Research Work/Quantum Computing/GRAPE-for-qubit/.git/objects/ec', '/Users/khatran/Documents/Research Work/Quantum Computing/GRAPE-for-qubit/.git/objects/4e', '/Users/khatran/Documents/Research Work/Quantum Computing/GRAPE-for-qubit/.git/objects/20', '/Users/khatran/Documents/Research Work/Quantum Computing/GRAPE-for-qubit/.git/objects/18', '/Users/khatran/Documents/Research Work/Quantum Computing/GRAPE-for-qubit/.git/objects/pack', '/Users/khatran/Documents/Research Work/Quantum Computing/GRAPE-for-qubit/.git/objects/29', '/Users/khatran/Documents/Research Work/Quantum Computing/GRAPE-for-qubit/.git/objects/7c', '/Users/khatran/Documents/Research Work/Quantum Computing/GRAPE-for-qubit/.git/objects/16', '/Users/khatran/Documents/Research Work/Quantum Computing/GRAPE-for-qubit/.git/objects/42', '/Users/khatran/Documents/Research Work/Quantum Computing/GRAPE-for-qubit/.git/objects/45', '/Users/khatran/Documents/Research Work/Quantum Computing/GRAPE-for-qubit/.git/objects/1f', '/Users/khatran/Documents/Research Work/Quantum Computing/GRAPE-for-qubit/.git/objects/73', '/Users/khatran/Documents/Research Work/Quantum Computing/GRAPE-for-qubit/.git/objects/87', '/Users/khatran/Documents/Research Work/Quantum Computing/GRAPE-for-qubit/.git/objects/80', '/Users/khatran/Documents/Research Work/Quantum Computing/GRAPE-for-qubit/.git/objects/74', '/Users/khatran/Documents/Research Work/Quantum Computing/GRAPE-for-qubit/.git/objects/1a', '/Users/khatran/Documents/Research Work/Quantum Computing/GRAPE-for-qubit/.git/objects/28', '/Users/khatran/Documents/Research Work/Quantum Computing/GRAPE-for-qubit/.git/objects/17', '/Users/khatran/Documents/Research Work/Quantum Computing/GRAPE-for-qubit/.git/objects/8a', '/Users/khatran/Documents/Research Work/Quantum Computing/GRAPE-for-qubit/.git/objects/7e', '/Users/khatran/Documents/Research Work/Quantum Computing/GRAPE-for-qubit/.git/objects/4c', '/Users/khatran/Documents/Research Work/Quantum Computing/GRAPE-for-qubit/.git/objects/26', '/Users/khatran/Documents/Research Work/Quantum Computing/GRAPE-for-qubit/.git/objects/21', '/Users/khatran/Documents/Research Work/Quantum Computing/GRAPE-for-qubit/.git/objects/4d', '/Users/khatran/Documents/Research Work/Quantum Computing/GRAPE-for-qubit/.git/objects/81', '/Users/khatran/Documents/Research Work/Quantum Computing/GRAPE-for-qubit/.git/objects/86', '/Users/khatran/Documents/Research Work/Quantum Computing/GRAPE-for-qubit/.git/objects/72', '/Users/khatran/Documents/Research Work/Quantum Computing/GRAPE-for-qubit/.git/objects/2f', '/Users/khatran/Documents/Research Work/Quantum Computing/GRAPE-for-qubit/.git/objects/43', '/Users/khatran/Documents/Research Work/Quantum Computing/GRAPE-for-qubit/.git/objects/6b', '/Users/khatran/Documents/Research Work/Quantum Computing/GRAPE-for-qubit/.git/objects/07', '/Users/khatran/Documents/Research Work/Quantum Computing/GRAPE-for-qubit/.git/objects/38', '/Users/khatran/Documents/Research Work/Quantum Computing/GRAPE-for-qubit/.git/objects/6e', '/Users/khatran/Documents/Research Work/Quantum Computing/GRAPE-for-qubit/.git/objects/5c', '/Users/khatran/Documents/Research Work/Quantum Computing/GRAPE-for-qubit/.git/objects/09', '/Users/khatran/Documents/Research Work/Quantum Computing/GRAPE-for-qubit/.git/objects/5d', '/Users/khatran/Documents/Research Work/Quantum Computing/GRAPE-for-qubit/.git/objects/31', '/Users/khatran/Documents/Research Work/Quantum Computing/GRAPE-for-qubit/.git/objects/info', '/Users/khatran/Documents/Research Work/Quantum Computing/GRAPE-for-qubit/.git/objects/96', '/Users/khatran/Documents/Research Work/Quantum Computing/GRAPE-for-qubit/.git/objects/54', '/Users/khatran/Documents/Research Work/Quantum Computing/GRAPE-for-qubit/.git/objects/98', '/Users/khatran/Documents/Research Work/Quantum Computing/GRAPE-for-qubit/.git/objects/53', '/Users/khatran/Documents/Research Work/Quantum Computing/GRAPE-for-qubit/.git/objects/30', '/Users/khatran/Documents/Research Work/Quantum Computing/GRAPE-for-qubit/.git/objects/5e', '/Users/khatran/Documents/Research Work/Quantum Computing/GRAPE-for-qubit/.git/objects/37', '/Users/khatran/Documents/Research Work/Quantum Computing/GRAPE-for-qubit/.git/objects/08', '/Users/khatran/Documents/Research Work/Quantum Computing/GRAPE-for-qubit/.git/objects/6d', '/Users/khatran/Documents/Research Work/Quantum Computing/GRAPE-for-qubit/.git/objects/39', '/Users/khatran/Documents/Research Work/Quantum Computing/GRAPE-for-qubit/.git/objects/52', '/Users/khatran/Documents/Research Work/Quantum Computing/GRAPE-for-qubit/.git/objects/63', '/Users/khatran/Documents/Research Work/Quantum Computing/GRAPE-for-qubit/.git/objects/0f', '/Users/khatran/Documents/Research Work/Quantum Computing/GRAPE-for-qubit/.git/objects/0a', '/Users/khatran/Documents/Research Work/Quantum Computing/GRAPE-for-qubit/.git/objects/d3', '/Users/khatran/Documents/Research Work/Quantum Computing/GRAPE-for-qubit/.git/objects/ba', '/Users/khatran/Documents/Research Work/Quantum Computing/GRAPE-for-qubit/.git/objects/a7', '/Users/khatran/Documents/Research Work/Quantum Computing/GRAPE-for-qubit/.git/objects/b8', '/Users/khatran/Documents/Research Work/Quantum Computing/GRAPE-for-qubit/.git/objects/b1', '/Users/khatran/Documents/Research Work/Quantum Computing/GRAPE-for-qubit/.git/objects/b6', '/Users/khatran/Documents/Research Work/Quantum Computing/GRAPE-for-qubit/.git/objects/d2', '/Users/khatran/Documents/Research Work/Quantum Computing/GRAPE-for-qubit/.git/objects/aa', '/Users/khatran/Documents/Research Work/Quantum Computing/GRAPE-for-qubit/.git/objects/af', '/Users/khatran/Documents/Research Work/Quantum Computing/GRAPE-for-qubit/.git/objects/db', '/Users/khatran/Documents/Research Work/Quantum Computing/GRAPE-for-qubit/.git/objects/b0', '/Users/khatran/Documents/Research Work/Quantum Computing/GRAPE-for-qubit/.git/objects/a6', '/Users/khatran/Documents/Research Work/Quantum Computing/GRAPE-for-qubit/.git/objects/b9', '/Users/khatran/Documents/Research Work/Quantum Computing/GRAPE-for-qubit/.git/objects/ef', '/Users/khatran/Documents/Research Work/Quantum Computing/GRAPE-for-qubit/.git/objects/c4', '/Users/khatran/Documents/Research Work/Quantum Computing/GRAPE-for-qubit/.git/objects/e1', '/Users/khatran/Documents/Research Work/Quantum Computing/GRAPE-for-qubit/.git/objects/cd', '/Users/khatran/Documents/Research Work/Quantum Computing/GRAPE-for-qubit/.git/objects/cc', '/Users/khatran/Documents/Research Work/Quantum Computing/GRAPE-for-qubit/.git/objects/f9', '/Users/khatran/Documents/Research Work/Quantum Computing/GRAPE-for-qubit/.git/objects/f0', '/Users/khatran/Documents/Research Work/Quantum Computing/GRAPE-for-qubit/.git/objects/f7', '/Users/khatran/Documents/Research Work/Quantum Computing/GRAPE-for-qubit/.git/objects/e8', '/Users/khatran/Documents/Research Work/Quantum Computing/GRAPE-for-qubit/.git/objects/fa', '/Users/khatran/Documents/Research Work/Quantum Computing/GRAPE-for-qubit/.git/objects/c5', '/Users/khatran/Documents/Research Work/Quantum Computing/GRAPE-for-qubit/.git/objects/f6', '/Users/khatran/Documents/Research Work/Quantum Computing/GRAPE-for-qubit/.git/objects/e7', '/Users/khatran/Documents/Research Work/Quantum Computing/GRAPE-for-qubit/.git/objects/f8', '/Users/khatran/Documents/Research Work/Quantum Computing/GRAPE-for-qubit/.git/objects/e0', '/Users/khatran/Documents/Research Work/Quantum Computing/GRAPE-for-qubit/.git/objects/79', '/Users/khatran/Documents/Research Work/Quantum Computing/GRAPE-for-qubit/.git/objects/41', '/Users/khatran/Documents/Research Work/Quantum Computing/GRAPE-for-qubit/.git/objects/1b', '/Users/khatran/Documents/Research Work/Quantum Computing/GRAPE-for-qubit/.git/objects/77', '/Users/khatran/Documents/Research Work/Quantum Computing/GRAPE-for-qubit/.git/objects/1e', '/Users/khatran/Documents/Research Work/Quantum Computing/GRAPE-for-qubit/.git/objects/84', '/Users/khatran/Documents/Research Work/Quantum Computing/GRAPE-for-qubit/.git/objects/4a', '/Users/khatran/Documents/Research Work/Quantum Computing/GRAPE-for-qubit/.git/objects/23', '/Users/khatran/Documents/Research Work/Quantum Computing/GRAPE-for-qubit/.git/objects/4f', '/Users/khatran/Documents/Research Work/Quantum Computing/GRAPE-for-qubit/.git/objects/15', '/Users/khatran/Documents/Research Work/Quantum Computing/GRAPE-for-qubit/.git/objects/85', '/Users/khatran/Documents/Research Work/Quantum Computing/GRAPE-for-qubit/.git/objects/1d', '/Users/khatran/Documents/Research Work/Quantum Computing/GRAPE-for-qubit/.git/objects/71', '/Users/khatran/Documents/Research Work/Quantum Computing/GRAPE-for-qubit/.git/objects/1c', '/Users/khatran/Documents/Research Work/Quantum Computing/GRAPE-for-qubit/.git/objects/40', '/Users/khatran/Documents/Research Work/Quantum Computing/GRAPE-for-qubit/.git/objects/2e', '/Users/khatran/Documents/Research Work/Quantum Computing/GRAPE-for-qubit/.git/objects/2b', '/Users/khatran/Documents/Research Work/Quantum Computing/GRAPE-for-qubit/.git/objects/8b', '/Users/khatran/Documents/Research Work/Quantum Computing/GRAPE-for-qubit/.git/objects/13', '/Users/khatran/Documents/Research Work/Quantum Computing/GRAPE-for-qubit/.git/objects/14', '/Users/khatran/Documents/Research Work/Quantum Computing/GRAPE-for-qubit/.git/objects/22', '/Users/khatran/Documents/Research Work/Quantum Computing/GRAPE-for-qubit/.git/objects/25', '/Users/khatran/Documents/Research Work/Quantum Computing/GRAPE-for-qubit/.git/logs/refs', '/Users/khatran/Documents/Research Work/Quantum Computing/GRAPE-for-qubit/.git/logs/refs/heads', '/Users/khatran/Documents/Research Work/Quantum Computing/GRAPE-for-qubit/.git/logs/refs/remotes', '/Users/khatran/Documents/Research Work/Quantum Computing/GRAPE-for-qubit/.git/logs/refs/remotes/origin', '/Users/khatran/Documents/Research Work/Quantum Computing/GRAPE-for-qubit/.git/refs/heads', '/Users/khatran/Documents/Research Work/Quantum Computing/GRAPE-for-qubit/.git/refs/tags', '/Users/khatran/Documents/Research Work/Quantum Computing/GRAPE-for-qubit/.git/refs/remotes', '/Users/khatran/Documents/Research Work/Quantum Computing/GRAPE-for-qubit/.git/refs/remotes/origin', '/Users/khatran/Documents/Research Work/Quantum Computing/GRAPE-for-qubit']\n"
     ]
    }
   ],
   "source": [
    "# index = sys.path.index('')\n",
    "# sys.path.pop(index)\n",
    "path = sys.path[0]\n",
    "parent_dir = os.path.abspath(os.path.join(os.getcwd(), os.pardir))\n",
    "\n",
    "for root, dirs, files in os.walk(parent_dir):\n",
    "    for dir in dirs:\n",
    "        sys.path.append(os.path.join(root, dir))\n",
    "\n",
    "sys.path.append(parent_dir)\n",
    "sys.path.pop(0)\n",
    "print(sys.path)"
   ]
  },
  {
   "cell_type": "code",
   "execution_count": 3,
   "metadata": {},
   "outputs": [],
   "source": [
    "%matplotlib inline\n",
    "\n",
    "import numpy as np\n",
    "import matplotlib.pyplot as plt\n",
    "import scipy.linalg as la\n",
    "import inspect\n",
    "from quantum_optimal_control.helper_functions.grape_functions import *\n",
    "from quantum_optimal_control.main_grape.grape import Grape\n",
    "\n",
    "data_path = '../output/x01_π/'"
   ]
  },
  {
   "cell_type": "code",
   "execution_count": 4,
   "metadata": {},
   "outputs": [],
   "source": [
    "from qiskit_ibm_runtime import QiskitRuntimeService\n",
    "\n",
    "# IBM Quantum channel; set to default\n",
    "QiskitRuntimeService.save_account(channel='ibm_quantum', token=\"0574c8c9cfdbc7c47815e6d5db41423ab35fd457b628bfe1d64b6e9280175fe913a69f1b4c7cdebcdc38a1d843c4200c073954d9f21848cbf9df808b100d17cf\", overwrite=True, set_as_default=True)"
   ]
  },
  {
   "cell_type": "code",
   "execution_count": 5,
   "metadata": {},
   "outputs": [],
   "source": [
    "# To access saved credentials for the IBM cloud channel\n",
    "# service = QiskitRuntimeService(channel=\"ibm_cloud\")\n",
    "\n",
    "# To access saved credentials for the IBM quantum channel\n",
    "service = QiskitRuntimeService(channel=\"ibm_quantum\")"
   ]
  },
  {
   "cell_type": "code",
   "execution_count": 6,
   "metadata": {},
   "outputs": [],
   "source": [
    "# Specify the instance in service.backend() instead of initializing a new device\n",
    "backend = service.backend(\"ibm_kyoto\")"
   ]
  },
  {
   "cell_type": "code",
   "execution_count": 7,
   "metadata": {},
   "outputs": [],
   "source": [
    "ns = 1.0e9\n",
    "config = backend.configuration()\n",
    "dt = config.dt\n",
    "acquire_alignment = config.timing_constraints['acquire_alignment']\n",
    "granularity = config.timing_constraints['granularity']\n",
    "pulse_alignment = config.timing_constraints['pulse_alignment']\n",
    "lcm = np.lcm(acquire_alignment, pulse_alignment)"
   ]
  },
  {
   "cell_type": "code",
   "execution_count": 8,
   "metadata": {},
   "outputs": [],
   "source": [
    "def get_closest_multiple_of(value, base_number):\n",
    "    return int(value + base_number/2) - (int(value + base_number/2) % base_number)\n",
    "\n",
    "def get_closest_multiple_of_16(num):\n",
    "    return get_closest_multiple_of(num, granularity)"
   ]
  },
  {
   "cell_type": "code",
   "execution_count": 9,
   "metadata": {},
   "outputs": [
    {
     "name": "stdout",
     "output_type": "stream",
     "text": [
      "['x']\n"
     ]
    }
   ],
   "source": [
    "#Defining time scales\n",
    "\n",
    "steps = 144 #1-2: 160\n",
    "steps = get_closest_multiple_of_16(steps)\n",
    "total_time = steps * dt * ns #ns dt = 0.2222222222\n",
    "\n",
    "# Choose optimizing State transfer or Unitary gate\n",
    "state_transfer = False\n",
    "\n",
    "#Defining H0\n",
    "qubit_state_num = 2 #change to 4\n",
    "qubit_num = 1 \n",
    "freq_ge = 0 #5.235350062289255 #GHz #change\n",
    "g_ops = 0.073036776 #GHz #change\n",
    "# 559352321.0160259\n",
    "\n",
    "ens = np.array([2 * np.pi * ii * (freq_ge) for ii in np.arange(qubit_state_num)])\n",
    "Q_x = np.diag(np.sqrt(np.arange(1, qubit_state_num)), 1) + np.diag(np.sqrt(np.arange(1, qubit_state_num)), -1)\n",
    "Q_y = (0 + 1j) * (np.diag(np.sqrt(np.arange(1, qubit_state_num)), 1) - np.diag(np.sqrt(np.arange(1, qubit_state_num)), -1))\n",
    "Q_z = np.diag(np.arange(0, qubit_state_num))\n",
    "I_q = np.identity(qubit_state_num)\n",
    "H_q = np.diag(ens)\n",
    "\n",
    "H0 = H_q\n",
    "\n",
    "#Defining Concerned states (starting states)\n",
    "g = np.array([1,0])\n",
    "e = np.array([0,1])\n",
    "psi0 = [g,e]\n",
    "\n",
    "#Defining states to include in the drawing of occupation\n",
    "states_draw_list = [0,1]\n",
    "states_draw_names = ['0','1']\n",
    "\n",
    "#Defining U (Target)\n",
    "target_vec_0 = np.zeros(qubit_state_num**qubit_num, dtype=complex)\n",
    "target_vec_0[1] = 1\n",
    "\n",
    "target_vec_1 = np.zeros(qubit_state_num**qubit_num, dtype=complex)\n",
    "target_vec_1[0] = 0\n",
    "    \n",
    "U = [target_vec_0,target_vec_1]\n",
    "\n",
    "#Defining U0 (Initial)\n",
    "q_identity = np.identity(qubit_state_num**qubit_num)\n",
    "U0 = q_identity\n",
    "\n",
    "#Defining control Hs\n",
    "XI = Q_x\n",
    "YI = Q_y\n",
    "ZI = Q_z\n",
    "Hops = [XI]                                                                            \n",
    "g_ops = 0.073036776 \n",
    "ops_max_amp = [2 * np.pi * g_ops] # = Omega_{d, 0}\n",
    "Hnames = ['x']\n",
    "\n",
    "print(Hnames)\n",
    "\n",
    "#Defining convergence parameters\n",
    "max_iterations = 1000\n",
    "decay = 5000 #max_iterations/2\n",
    "convergence = {'rate': 0.1, 'update_step': 1, 'max_iterations': max_iterations, 'conv_target': 1e-6, 'learning_rate_decay': decay}\n",
    "\n",
    "# guassian envelope pulse\n",
    "reg_coeffs = {'envelope': 0.1, 'dwdt': 0.001}"
   ]
  },
  {
   "cell_type": "code",
   "execution_count": 10,
   "metadata": {},
   "outputs": [
    {
     "name": "stdout",
     "output_type": "stream",
     "text": [
      "Data saved at: ../output/x01_π/00043_x01_lagos.h5\n",
      "Using 20 Taylor terms and 0 Scaling & Squaring terms\n",
      "Building graph:\n",
      "Propagators initialized.\n"
     ]
    },
    {
     "ename": "ValueError",
     "evalue": "Index out of range using input dim 1; input has only 1 dims for '{{node strided_slice}} = StridedSlice[Index=DT_INT32, T=DT_FLOAT, begin_mask=2, ellipsis_mask=0, end_mask=2, new_axis_mask=0, shrink_axis_mask=1](weights, strided_slice/stack, strided_slice/stack_1, strided_slice/stack_2)' with input shapes: [144], [2], [2], [2] and with computed input tensors: input[3] = <1 1>.",
     "output_type": "error",
     "traceback": [
      "\u001b[0;31m---------------------------------------------------------------------------\u001b[0m",
      "\u001b[0;31mValueError\u001b[0m                                Traceback (most recent call last)",
      "Cell \u001b[0;32mIn[10], line 1\u001b[0m\n\u001b[0;32m----> 1\u001b[0m uks, U_final \u001b[38;5;241m=\u001b[39m \u001b[43mGrape\u001b[49m\u001b[43m(\u001b[49m\u001b[43mH0\u001b[49m\u001b[43m,\u001b[49m\u001b[43m \u001b[49m\u001b[43mHops\u001b[49m\u001b[43m,\u001b[49m\u001b[43m \u001b[49m\u001b[43mHnames\u001b[49m\u001b[43m,\u001b[49m\u001b[43m \u001b[49m\u001b[43mU\u001b[49m\u001b[43m,\u001b[49m\u001b[43m \u001b[49m\u001b[43mtotal_time\u001b[49m\u001b[43m,\u001b[49m\u001b[43m \u001b[49m\u001b[43msteps\u001b[49m\u001b[43m,\u001b[49m\u001b[43m \u001b[49m\u001b[43mpsi0\u001b[49m\u001b[43m,\u001b[49m\n\u001b[1;32m      2\u001b[0m \u001b[43m                    \u001b[49m\u001b[43mconvergence\u001b[49m\u001b[43m \u001b[49m\u001b[38;5;241;43m=\u001b[39;49m\u001b[43m \u001b[49m\u001b[43mconvergence\u001b[49m\u001b[43m,\u001b[49m\u001b[43m \u001b[49m\n\u001b[1;32m      3\u001b[0m \u001b[43m                    \u001b[49m\u001b[43mdraw\u001b[49m\u001b[43m \u001b[49m\u001b[38;5;241;43m=\u001b[39;49m\u001b[43m \u001b[49m\u001b[43m[\u001b[49m\u001b[43mstates_draw_list\u001b[49m\u001b[43m,\u001b[49m\u001b[43m \u001b[49m\u001b[43mstates_draw_names\u001b[49m\u001b[43m]\u001b[49m\u001b[43m,\u001b[49m\n\u001b[1;32m      4\u001b[0m \u001b[43m                    \u001b[49m\u001b[43mstate_transfer\u001b[49m\u001b[43m \u001b[49m\u001b[38;5;241;43m=\u001b[39;49m\u001b[43m \u001b[49m\u001b[38;5;28;43;01mTrue\u001b[39;49;00m\u001b[43m,\u001b[49m\n\u001b[1;32m      5\u001b[0m \u001b[43m                    \u001b[49m\u001b[43muse_gpu\u001b[49m\u001b[43m \u001b[49m\u001b[38;5;241;43m=\u001b[39;49m\u001b[43m \u001b[49m\u001b[38;5;28;43;01mFalse\u001b[39;49;00m\u001b[43m,\u001b[49m\n\u001b[1;32m      6\u001b[0m \u001b[43m                    \u001b[49m\u001b[43msparse_H\u001b[49m\u001b[43m \u001b[49m\u001b[38;5;241;43m=\u001b[39;49m\u001b[43m \u001b[49m\u001b[38;5;28;43;01mFalse\u001b[39;49;00m\u001b[43m,\u001b[49m\n\u001b[1;32m      7\u001b[0m \u001b[43m                    \u001b[49m\u001b[43mshow_plots\u001b[49m\u001b[43m \u001b[49m\u001b[38;5;241;43m=\u001b[39;49m\u001b[43m \u001b[49m\u001b[38;5;28;43;01mTrue\u001b[39;49;00m\u001b[43m,\u001b[49m\u001b[43m \u001b[49m\n\u001b[1;32m      8\u001b[0m \u001b[43m                    \u001b[49m\u001b[43munitary_error\u001b[49m\u001b[43m \u001b[49m\u001b[38;5;241;43m=\u001b[39;49m\u001b[43m \u001b[49m\u001b[38;5;241;43m1e-6\u001b[39;49m\u001b[43m,\u001b[49m\u001b[43m \u001b[49m\n\u001b[1;32m      9\u001b[0m \u001b[43m                    \u001b[49m\u001b[43mmethod\u001b[49m\u001b[43m \u001b[49m\u001b[38;5;241;43m=\u001b[39;49m\u001b[43m \u001b[49m\u001b[38;5;124;43m'\u001b[39;49m\u001b[38;5;124;43mL-BFGS-B\u001b[39;49m\u001b[38;5;124;43m'\u001b[39;49m\u001b[43m,\u001b[49m\u001b[43m \u001b[49m\n\u001b[1;32m     10\u001b[0m \u001b[43m                    \u001b[49m\u001b[43mmaxA\u001b[49m\u001b[43m \u001b[49m\u001b[38;5;241;43m=\u001b[39;49m\u001b[43m \u001b[49m\u001b[43mops_max_amp\u001b[49m\u001b[43m,\u001b[49m\n\u001b[1;32m     11\u001b[0m \u001b[43m                    \u001b[49m\u001b[43mTaylor_terms\u001b[49m\u001b[43m \u001b[49m\u001b[38;5;241;43m=\u001b[39;49m\u001b[43m \u001b[49m\u001b[43m[\u001b[49m\u001b[38;5;241;43m20\u001b[39;49m\u001b[43m,\u001b[49m\u001b[38;5;241;43m0\u001b[39;49m\u001b[43m]\u001b[49m\u001b[43m,\u001b[49m\n\u001b[1;32m     12\u001b[0m \u001b[43m                    \u001b[49m\u001b[43mreg_coeffs\u001b[49m\u001b[43m \u001b[49m\u001b[38;5;241;43m=\u001b[39;49m\u001b[43m \u001b[49m\u001b[43mreg_coeffs\u001b[49m\u001b[43m,\u001b[49m\n\u001b[1;32m     13\u001b[0m \u001b[43m                    \u001b[49m\u001b[43msave\u001b[49m\u001b[43m \u001b[49m\u001b[38;5;241;43m=\u001b[39;49m\u001b[43m \u001b[49m\u001b[38;5;28;43;01mTrue\u001b[39;49;00m\u001b[43m,\u001b[49m\n\u001b[1;32m     14\u001b[0m \u001b[43m                    \u001b[49m\u001b[43mfile_name\u001b[49m\u001b[43m \u001b[49m\u001b[38;5;241;43m=\u001b[39;49m\u001b[43m \u001b[49m\u001b[38;5;124;43m'\u001b[39;49m\u001b[38;5;124;43mx01_lagos\u001b[39;49m\u001b[38;5;124;43m'\u001b[39;49m\u001b[43m,\u001b[49m\n\u001b[1;32m     15\u001b[0m \u001b[43m                    \u001b[49m\u001b[43mdata_path\u001b[49m\u001b[43m \u001b[49m\u001b[38;5;241;43m=\u001b[39;49m\u001b[43m \u001b[49m\u001b[43mdata_path\u001b[49m\u001b[43m)\u001b[49m\n",
      "File \u001b[0;32m~/Documents/Research Work/Quantum Computing/GRAPE-for-qubit/quantum_optimal_control/main_grape/grape.py:131\u001b[0m, in \u001b[0;36mGrape\u001b[0;34m(H0, Hops, Hnames, U, total_time, steps, states_concerned_list, convergence, U0, reg_coeffs, dressed_info, maxA, use_gpu, sparse_H, sparse_U, sparse_K, draw, initial_guess, show_plots, unitary_error, method, state_transfer, no_scaling, freq_unit, file_name, save, data_path, Taylor_terms, use_inter_vecs)\u001b[0m\n\u001b[1;32m    129\u001b[0m \u001b[38;5;28;01mwith\u001b[39;00m tf\u001b[38;5;241m.\u001b[39mdevice(dev):\n\u001b[1;32m    130\u001b[0m     tfs \u001b[38;5;241m=\u001b[39m TensorflowState(sys_para) \u001b[38;5;66;03m# create tensorflow graph\u001b[39;00m\n\u001b[0;32m--> 131\u001b[0m     graph \u001b[38;5;241m=\u001b[39m \u001b[43mtfs\u001b[49m\u001b[38;5;241;43m.\u001b[39;49m\u001b[43mbuild_graph\u001b[49m\u001b[43m(\u001b[49m\u001b[43m)\u001b[49m\n\u001b[1;32m    133\u001b[0m conv \u001b[38;5;241m=\u001b[39m Convergence(sys_para, time_unit, convergence)\n\u001b[1;32m    135\u001b[0m \u001b[38;5;66;03m# run the optimization\u001b[39;00m\n",
      "File \u001b[0;32m~/Documents/Research Work/Quantum Computing/GRAPE-for-qubit/quantum_optimal_control/core/tensorflow_state.py:340\u001b[0m, in \u001b[0;36mTensorflowState.build_graph\u001b[0;34m(self)\u001b[0m\n\u001b[1;32m    338\u001b[0m \u001b[38;5;28mself\u001b[39m\u001b[38;5;241m.\u001b[39minit_tf_vectors()\n\u001b[1;32m    339\u001b[0m \u001b[38;5;28mself\u001b[39m\u001b[38;5;241m.\u001b[39minit_tf_propagators()\n\u001b[0;32m--> 340\u001b[0m \u001b[38;5;28;43mself\u001b[39;49m\u001b[38;5;241;43m.\u001b[39;49m\u001b[43minit_tf_ops_weight\u001b[49m\u001b[43m(\u001b[49m\u001b[43m)\u001b[49m\n\u001b[1;32m    342\u001b[0m \u001b[38;5;28;01mif\u001b[39;00m \u001b[38;5;28mself\u001b[39m\u001b[38;5;241m.\u001b[39msys_para\u001b[38;5;241m.\u001b[39mstate_transfer \u001b[38;5;241m==\u001b[39m \u001b[38;5;28;01mFalse\u001b[39;00m:\n\u001b[1;32m    343\u001b[0m     \u001b[38;5;28mself\u001b[39m\u001b[38;5;241m.\u001b[39minit_tf_inter_propagators()\n",
      "File \u001b[0;32m~/Documents/Research Work/Quantum Computing/GRAPE-for-qubit/quantum_optimal_control/core/tensorflow_state.py:161\u001b[0m, in \u001b[0;36mTensorflowState.init_tf_ops_weight\u001b[0;34m(self)\u001b[0m\n\u001b[1;32m    158\u001b[0m \u001b[38;5;28mself\u001b[39m\u001b[38;5;241m.\u001b[39mops_weight \u001b[38;5;241m=\u001b[39m tf\u001b[38;5;241m.\u001b[39msin(\u001b[38;5;28mself\u001b[39m\u001b[38;5;241m.\u001b[39mops_weight_base, name\u001b[38;5;241m=\u001b[39m\u001b[38;5;124m\"\u001b[39m\u001b[38;5;124mweights\u001b[39m\u001b[38;5;124m\"\u001b[39m)\n\u001b[1;32m    160\u001b[0m \u001b[38;5;28;01mfor\u001b[39;00m ii \u001b[38;5;129;01min\u001b[39;00m \u001b[38;5;28mrange\u001b[39m (\u001b[38;5;28mself\u001b[39m\u001b[38;5;241m.\u001b[39msys_para\u001b[38;5;241m.\u001b[39mops_len):\n\u001b[0;32m--> 161\u001b[0m     \u001b[38;5;28mself\u001b[39m\u001b[38;5;241m.\u001b[39mweights_unpacked\u001b[38;5;241m.\u001b[39mappend(\u001b[38;5;28mself\u001b[39m\u001b[38;5;241m.\u001b[39msys_para\u001b[38;5;241m.\u001b[39mops_max_amp[ii] \u001b[38;5;241m*\u001b[39m \u001b[38;5;28;43mself\u001b[39;49m\u001b[38;5;241;43m.\u001b[39;49m\u001b[43mops_weight\u001b[49m\u001b[43m[\u001b[49m\u001b[43mii\u001b[49m\u001b[43m,\u001b[49m\u001b[43m:\u001b[49m\u001b[43m]\u001b[49m)\n\u001b[1;32m    163\u001b[0m \u001b[38;5;66;03m#print len(self.sys_para.ops_max_amp)\u001b[39;00m\n\u001b[1;32m    164\u001b[0m \u001b[38;5;28mself\u001b[39m\u001b[38;5;241m.\u001b[39mH_weights \u001b[38;5;241m=\u001b[39m tf\u001b[38;5;241m.\u001b[39mstack(\u001b[38;5;28mself\u001b[39m\u001b[38;5;241m.\u001b[39mweights_unpacked, name\u001b[38;5;241m=\u001b[39m\u001b[38;5;124m\"\u001b[39m\u001b[38;5;124mpacked_weights\u001b[39m\u001b[38;5;124m\"\u001b[39m)\n",
      "File \u001b[0;32m~/anaconda3/envs/quantum/lib/python3.11/site-packages/tensorflow/python/util/traceback_utils.py:153\u001b[0m, in \u001b[0;36mfilter_traceback.<locals>.error_handler\u001b[0;34m(*args, **kwargs)\u001b[0m\n\u001b[1;32m    151\u001b[0m \u001b[38;5;28;01mexcept\u001b[39;00m \u001b[38;5;167;01mException\u001b[39;00m \u001b[38;5;28;01mas\u001b[39;00m e:\n\u001b[1;32m    152\u001b[0m   filtered_tb \u001b[38;5;241m=\u001b[39m _process_traceback_frames(e\u001b[38;5;241m.\u001b[39m__traceback__)\n\u001b[0;32m--> 153\u001b[0m   \u001b[38;5;28;01mraise\u001b[39;00m e\u001b[38;5;241m.\u001b[39mwith_traceback(filtered_tb) \u001b[38;5;28;01mfrom\u001b[39;00m \u001b[38;5;28;01mNone\u001b[39;00m\n\u001b[1;32m    154\u001b[0m \u001b[38;5;28;01mfinally\u001b[39;00m:\n\u001b[1;32m    155\u001b[0m   \u001b[38;5;28;01mdel\u001b[39;00m filtered_tb\n",
      "File \u001b[0;32m~/anaconda3/envs/quantum/lib/python3.11/site-packages/tensorflow/python/framework/ops.py:1037\u001b[0m, in \u001b[0;36m_create_c_op\u001b[0;34m(graph, node_def, inputs, control_inputs, op_def, extract_traceback)\u001b[0m\n\u001b[1;32m   1034\u001b[0m   c_op \u001b[38;5;241m=\u001b[39m pywrap_tf_session\u001b[38;5;241m.\u001b[39mTF_FinishOperation(op_desc)\n\u001b[1;32m   1035\u001b[0m \u001b[38;5;28;01mexcept\u001b[39;00m errors\u001b[38;5;241m.\u001b[39mInvalidArgumentError \u001b[38;5;28;01mas\u001b[39;00m e:\n\u001b[1;32m   1036\u001b[0m   \u001b[38;5;66;03m# Convert to ValueError for backwards compatibility.\u001b[39;00m\n\u001b[0;32m-> 1037\u001b[0m   \u001b[38;5;28;01mraise\u001b[39;00m \u001b[38;5;167;01mValueError\u001b[39;00m(e\u001b[38;5;241m.\u001b[39mmessage)\n\u001b[1;32m   1039\u001b[0m \u001b[38;5;66;03m# Record the current Python stack trace as the creating stacktrace of this\u001b[39;00m\n\u001b[1;32m   1040\u001b[0m \u001b[38;5;66;03m# TF_Operation.\u001b[39;00m\n\u001b[1;32m   1041\u001b[0m \u001b[38;5;28;01mif\u001b[39;00m extract_traceback:\n",
      "\u001b[0;31mValueError\u001b[0m: Index out of range using input dim 1; input has only 1 dims for '{{node strided_slice}} = StridedSlice[Index=DT_INT32, T=DT_FLOAT, begin_mask=2, ellipsis_mask=0, end_mask=2, new_axis_mask=0, shrink_axis_mask=1](weights, strided_slice/stack, strided_slice/stack_1, strided_slice/stack_2)' with input shapes: [144], [2], [2], [2] and with computed input tensors: input[3] = <1 1>."
     ]
    }
   ],
   "source": [
    "uks, U_final = Grape(H0, Hops, Hnames, U, total_time, steps, psi0,\n",
    "                    convergence = convergence, \n",
    "                    draw = [states_draw_list, states_draw_names],\n",
    "                    state_transfer = True,\n",
    "                    use_gpu = False,\n",
    "                    sparse_H = False,\n",
    "                    show_plots = True, \n",
    "                    unitary_error = 1e-6, \n",
    "                    method = 'L-BFGS-B', \n",
    "                    maxA = ops_max_amp,\n",
    "                    Taylor_terms = [20,0],\n",
    "                    reg_coeffs = reg_coeffs,\n",
    "                    save = True,\n",
    "                    file_name = 'x01_lagos',\n",
    "                    data_path = data_path)"
   ]
  },
  {
   "cell_type": "code",
   "execution_count": null,
   "metadata": {},
   "outputs": [],
   "source": []
  }
 ],
 "metadata": {
  "kernelspec": {
   "display_name": "quantum",
   "language": "python",
   "name": "python3"
  },
  "language_info": {
   "codemirror_mode": {
    "name": "ipython",
    "version": 3
   },
   "file_extension": ".py",
   "mimetype": "text/x-python",
   "name": "python",
   "nbconvert_exporter": "python",
   "pygments_lexer": "ipython3",
   "version": "3.11.9"
  },
  "orig_nbformat": 4
 },
 "nbformat": 4,
 "nbformat_minor": 2
}
