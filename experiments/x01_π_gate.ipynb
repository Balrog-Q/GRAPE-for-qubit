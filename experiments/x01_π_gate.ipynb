{
 "cells": [
  {
   "cell_type": "code",
   "execution_count": 1,
   "metadata": {},
   "outputs": [],
   "source": [
    "import os\n",
    "import sys\n",
    "import warnings\n",
    "warnings.filterwarnings('ignore')"
   ]
  },
  {
   "cell_type": "code",
   "execution_count": 2,
   "metadata": {},
   "outputs": [
    {
     "name": "stdout",
     "output_type": "stream",
     "text": [
      "['/Users/khatran/anaconda3/envs/quantum/lib/python3.11', '/Users/khatran/anaconda3/envs/quantum/lib/python3.11/lib-dynload', '', '/Users/khatran/anaconda3/envs/quantum/lib/python3.11/site-packages', '/Users/khatran/Documents/Research Work/Quantum Computing/GRAPE-for-qubit/experiments', '/Users/khatran/Documents/Research Work/Quantum Computing/GRAPE-for-qubit/output', '/Users/khatran/Documents/Research Work/Quantum Computing/GRAPE-for-qubit/quantum_optimal_control', '/Users/khatran/Documents/Research Work/Quantum Computing/GRAPE-for-qubit/.git', '/Users/khatran/Documents/Research Work/Quantum Computing/GRAPE-for-qubit/.vscode', '/Users/khatran/Documents/Research Work/Quantum Computing/GRAPE-for-qubit/experiments/x01_gate_lagos', '/Users/khatran/Documents/Research Work/Quantum Computing/GRAPE-for-qubit/output/x01_π', '/Users/khatran/Documents/Research Work/Quantum Computing/GRAPE-for-qubit/output/x01_90', '/Users/khatran/Documents/Research Work/Quantum Computing/GRAPE-for-qubit/output/x01_π_qutrit', '/Users/khatran/Documents/Research Work/Quantum Computing/GRAPE-for-qubit/output/x01_qutrit', '/Users/khatran/Documents/Research Work/Quantum Computing/GRAPE-for-qubit/quantum_optimal_control/main_grape', '/Users/khatran/Documents/Research Work/Quantum Computing/GRAPE-for-qubit/quantum_optimal_control/core', '/Users/khatran/Documents/Research Work/Quantum Computing/GRAPE-for-qubit/quantum_optimal_control/helper_functions', '/Users/khatran/Documents/Research Work/Quantum Computing/GRAPE-for-qubit/quantum_optimal_control/__pycache__', '/Users/khatran/Documents/Research Work/Quantum Computing/GRAPE-for-qubit/quantum_optimal_control/main_grape/__pycache__', '/Users/khatran/Documents/Research Work/Quantum Computing/GRAPE-for-qubit/quantum_optimal_control/core/__pycache__', '/Users/khatran/Documents/Research Work/Quantum Computing/GRAPE-for-qubit/quantum_optimal_control/helper_functions/__pycache__', '/Users/khatran/Documents/Research Work/Quantum Computing/GRAPE-for-qubit/.git/objects', '/Users/khatran/Documents/Research Work/Quantum Computing/GRAPE-for-qubit/.git/info', '/Users/khatran/Documents/Research Work/Quantum Computing/GRAPE-for-qubit/.git/logs', '/Users/khatran/Documents/Research Work/Quantum Computing/GRAPE-for-qubit/.git/hooks', '/Users/khatran/Documents/Research Work/Quantum Computing/GRAPE-for-qubit/.git/refs', '/Users/khatran/Documents/Research Work/Quantum Computing/GRAPE-for-qubit/.git/branches', '/Users/khatran/Documents/Research Work/Quantum Computing/GRAPE-for-qubit/.git/objects/95', '/Users/khatran/Documents/Research Work/Quantum Computing/GRAPE-for-qubit/.git/objects/66', '/Users/khatran/Documents/Research Work/Quantum Computing/GRAPE-for-qubit/.git/objects/3e', '/Users/khatran/Documents/Research Work/Quantum Computing/GRAPE-for-qubit/.git/objects/50', '/Users/khatran/Documents/Research Work/Quantum Computing/GRAPE-for-qubit/.git/objects/68', '/Users/khatran/Documents/Research Work/Quantum Computing/GRAPE-for-qubit/.git/objects/03', '/Users/khatran/Documents/Research Work/Quantum Computing/GRAPE-for-qubit/.git/objects/9e', '/Users/khatran/Documents/Research Work/Quantum Computing/GRAPE-for-qubit/.git/objects/3c', '/Users/khatran/Documents/Research Work/Quantum Computing/GRAPE-for-qubit/.git/objects/3d', '/Users/khatran/Documents/Research Work/Quantum Computing/GRAPE-for-qubit/.git/objects/58', '/Users/khatran/Documents/Research Work/Quantum Computing/GRAPE-for-qubit/.git/objects/67', '/Users/khatran/Documents/Research Work/Quantum Computing/GRAPE-for-qubit/.git/objects/93', '/Users/khatran/Documents/Research Work/Quantum Computing/GRAPE-for-qubit/.git/objects/94', '/Users/khatran/Documents/Research Work/Quantum Computing/GRAPE-for-qubit/.git/objects/34', '/Users/khatran/Documents/Research Work/Quantum Computing/GRAPE-for-qubit/.git/objects/9d', '/Users/khatran/Documents/Research Work/Quantum Computing/GRAPE-for-qubit/.git/objects/9c', '/Users/khatran/Documents/Research Work/Quantum Computing/GRAPE-for-qubit/.git/objects/a4', '/Users/khatran/Documents/Research Work/Quantum Computing/GRAPE-for-qubit/.git/objects/a3', '/Users/khatran/Documents/Research Work/Quantum Computing/GRAPE-for-qubit/.git/objects/b2', '/Users/khatran/Documents/Research Work/Quantum Computing/GRAPE-for-qubit/.git/objects/bb', '/Users/khatran/Documents/Research Work/Quantum Computing/GRAPE-for-qubit/.git/objects/d7', '/Users/khatran/Documents/Research Work/Quantum Computing/GRAPE-for-qubit/.git/objects/d0', '/Users/khatran/Documents/Research Work/Quantum Computing/GRAPE-for-qubit/.git/objects/be', '/Users/khatran/Documents/Research Work/Quantum Computing/GRAPE-for-qubit/.git/objects/b3', '/Users/khatran/Documents/Research Work/Quantum Computing/GRAPE-for-qubit/.git/objects/df', '/Users/khatran/Documents/Research Work/Quantum Computing/GRAPE-for-qubit/.git/objects/a2', '/Users/khatran/Documents/Research Work/Quantum Computing/GRAPE-for-qubit/.git/objects/d1', '/Users/khatran/Documents/Research Work/Quantum Computing/GRAPE-for-qubit/.git/objects/bc', '/Users/khatran/Documents/Research Work/Quantum Computing/GRAPE-for-qubit/.git/objects/d8', '/Users/khatran/Documents/Research Work/Quantum Computing/GRAPE-for-qubit/.git/objects/f4', '/Users/khatran/Documents/Research Work/Quantum Computing/GRAPE-for-qubit/.git/objects/eb', '/Users/khatran/Documents/Research Work/Quantum Computing/GRAPE-for-qubit/.git/objects/c7', '/Users/khatran/Documents/Research Work/Quantum Computing/GRAPE-for-qubit/.git/objects/c0', '/Users/khatran/Documents/Research Work/Quantum Computing/GRAPE-for-qubit/.git/objects/ee', '/Users/khatran/Documents/Research Work/Quantum Computing/GRAPE-for-qubit/.git/objects/fc', '/Users/khatran/Documents/Research Work/Quantum Computing/GRAPE-for-qubit/.git/objects/f5', '/Users/khatran/Documents/Research Work/Quantum Computing/GRAPE-for-qubit/.git/objects/e3', '/Users/khatran/Documents/Research Work/Quantum Computing/GRAPE-for-qubit/.git/objects/ca', '/Users/khatran/Documents/Research Work/Quantum Computing/GRAPE-for-qubit/.git/objects/e4', '/Users/khatran/Documents/Research Work/Quantum Computing/GRAPE-for-qubit/.git/objects/fe', '/Users/khatran/Documents/Research Work/Quantum Computing/GRAPE-for-qubit/.git/objects/c8', '/Users/khatran/Documents/Research Work/Quantum Computing/GRAPE-for-qubit/.git/objects/fb', '/Users/khatran/Documents/Research Work/Quantum Computing/GRAPE-for-qubit/.git/objects/ed', '/Users/khatran/Documents/Research Work/Quantum Computing/GRAPE-for-qubit/.git/objects/c6', '/Users/khatran/Documents/Research Work/Quantum Computing/GRAPE-for-qubit/.git/objects/ec', '/Users/khatran/Documents/Research Work/Quantum Computing/GRAPE-for-qubit/.git/objects/4e', '/Users/khatran/Documents/Research Work/Quantum Computing/GRAPE-for-qubit/.git/objects/20', '/Users/khatran/Documents/Research Work/Quantum Computing/GRAPE-for-qubit/.git/objects/pack', '/Users/khatran/Documents/Research Work/Quantum Computing/GRAPE-for-qubit/.git/objects/7c', '/Users/khatran/Documents/Research Work/Quantum Computing/GRAPE-for-qubit/.git/objects/16', '/Users/khatran/Documents/Research Work/Quantum Computing/GRAPE-for-qubit/.git/objects/42', '/Users/khatran/Documents/Research Work/Quantum Computing/GRAPE-for-qubit/.git/objects/1f', '/Users/khatran/Documents/Research Work/Quantum Computing/GRAPE-for-qubit/.git/objects/73', '/Users/khatran/Documents/Research Work/Quantum Computing/GRAPE-for-qubit/.git/objects/87', '/Users/khatran/Documents/Research Work/Quantum Computing/GRAPE-for-qubit/.git/objects/80', '/Users/khatran/Documents/Research Work/Quantum Computing/GRAPE-for-qubit/.git/objects/74', '/Users/khatran/Documents/Research Work/Quantum Computing/GRAPE-for-qubit/.git/objects/1a', '/Users/khatran/Documents/Research Work/Quantum Computing/GRAPE-for-qubit/.git/objects/28', '/Users/khatran/Documents/Research Work/Quantum Computing/GRAPE-for-qubit/.git/objects/17', '/Users/khatran/Documents/Research Work/Quantum Computing/GRAPE-for-qubit/.git/objects/8a', '/Users/khatran/Documents/Research Work/Quantum Computing/GRAPE-for-qubit/.git/objects/4c', '/Users/khatran/Documents/Research Work/Quantum Computing/GRAPE-for-qubit/.git/objects/26', '/Users/khatran/Documents/Research Work/Quantum Computing/GRAPE-for-qubit/.git/objects/21', '/Users/khatran/Documents/Research Work/Quantum Computing/GRAPE-for-qubit/.git/objects/4d', '/Users/khatran/Documents/Research Work/Quantum Computing/GRAPE-for-qubit/.git/objects/81', '/Users/khatran/Documents/Research Work/Quantum Computing/GRAPE-for-qubit/.git/objects/86', '/Users/khatran/Documents/Research Work/Quantum Computing/GRAPE-for-qubit/.git/objects/72', '/Users/khatran/Documents/Research Work/Quantum Computing/GRAPE-for-qubit/.git/objects/2f', '/Users/khatran/Documents/Research Work/Quantum Computing/GRAPE-for-qubit/.git/objects/43', '/Users/khatran/Documents/Research Work/Quantum Computing/GRAPE-for-qubit/.git/objects/6b', '/Users/khatran/Documents/Research Work/Quantum Computing/GRAPE-for-qubit/.git/objects/07', '/Users/khatran/Documents/Research Work/Quantum Computing/GRAPE-for-qubit/.git/objects/38', '/Users/khatran/Documents/Research Work/Quantum Computing/GRAPE-for-qubit/.git/objects/6e', '/Users/khatran/Documents/Research Work/Quantum Computing/GRAPE-for-qubit/.git/objects/5c', '/Users/khatran/Documents/Research Work/Quantum Computing/GRAPE-for-qubit/.git/objects/09', '/Users/khatran/Documents/Research Work/Quantum Computing/GRAPE-for-qubit/.git/objects/5d', '/Users/khatran/Documents/Research Work/Quantum Computing/GRAPE-for-qubit/.git/objects/31', '/Users/khatran/Documents/Research Work/Quantum Computing/GRAPE-for-qubit/.git/objects/info', '/Users/khatran/Documents/Research Work/Quantum Computing/GRAPE-for-qubit/.git/objects/54', '/Users/khatran/Documents/Research Work/Quantum Computing/GRAPE-for-qubit/.git/objects/98', '/Users/khatran/Documents/Research Work/Quantum Computing/GRAPE-for-qubit/.git/objects/53', '/Users/khatran/Documents/Research Work/Quantum Computing/GRAPE-for-qubit/.git/objects/30', '/Users/khatran/Documents/Research Work/Quantum Computing/GRAPE-for-qubit/.git/objects/37', '/Users/khatran/Documents/Research Work/Quantum Computing/GRAPE-for-qubit/.git/objects/08', '/Users/khatran/Documents/Research Work/Quantum Computing/GRAPE-for-qubit/.git/objects/6d', '/Users/khatran/Documents/Research Work/Quantum Computing/GRAPE-for-qubit/.git/objects/39', '/Users/khatran/Documents/Research Work/Quantum Computing/GRAPE-for-qubit/.git/objects/52', '/Users/khatran/Documents/Research Work/Quantum Computing/GRAPE-for-qubit/.git/objects/63', '/Users/khatran/Documents/Research Work/Quantum Computing/GRAPE-for-qubit/.git/objects/0f', '/Users/khatran/Documents/Research Work/Quantum Computing/GRAPE-for-qubit/.git/objects/0a', '/Users/khatran/Documents/Research Work/Quantum Computing/GRAPE-for-qubit/.git/objects/d3', '/Users/khatran/Documents/Research Work/Quantum Computing/GRAPE-for-qubit/.git/objects/ba', '/Users/khatran/Documents/Research Work/Quantum Computing/GRAPE-for-qubit/.git/objects/a7', '/Users/khatran/Documents/Research Work/Quantum Computing/GRAPE-for-qubit/.git/objects/b8', '/Users/khatran/Documents/Research Work/Quantum Computing/GRAPE-for-qubit/.git/objects/b1', '/Users/khatran/Documents/Research Work/Quantum Computing/GRAPE-for-qubit/.git/objects/b6', '/Users/khatran/Documents/Research Work/Quantum Computing/GRAPE-for-qubit/.git/objects/d2', '/Users/khatran/Documents/Research Work/Quantum Computing/GRAPE-for-qubit/.git/objects/aa', '/Users/khatran/Documents/Research Work/Quantum Computing/GRAPE-for-qubit/.git/objects/af', '/Users/khatran/Documents/Research Work/Quantum Computing/GRAPE-for-qubit/.git/objects/db', '/Users/khatran/Documents/Research Work/Quantum Computing/GRAPE-for-qubit/.git/objects/b0', '/Users/khatran/Documents/Research Work/Quantum Computing/GRAPE-for-qubit/.git/objects/a6', '/Users/khatran/Documents/Research Work/Quantum Computing/GRAPE-for-qubit/.git/objects/b9', '/Users/khatran/Documents/Research Work/Quantum Computing/GRAPE-for-qubit/.git/objects/ef', '/Users/khatran/Documents/Research Work/Quantum Computing/GRAPE-for-qubit/.git/objects/c4', '/Users/khatran/Documents/Research Work/Quantum Computing/GRAPE-for-qubit/.git/objects/e1', '/Users/khatran/Documents/Research Work/Quantum Computing/GRAPE-for-qubit/.git/objects/cd', '/Users/khatran/Documents/Research Work/Quantum Computing/GRAPE-for-qubit/.git/objects/f9', '/Users/khatran/Documents/Research Work/Quantum Computing/GRAPE-for-qubit/.git/objects/f0', '/Users/khatran/Documents/Research Work/Quantum Computing/GRAPE-for-qubit/.git/objects/f7', '/Users/khatran/Documents/Research Work/Quantum Computing/GRAPE-for-qubit/.git/objects/e8', '/Users/khatran/Documents/Research Work/Quantum Computing/GRAPE-for-qubit/.git/objects/e7', '/Users/khatran/Documents/Research Work/Quantum Computing/GRAPE-for-qubit/.git/objects/f8', '/Users/khatran/Documents/Research Work/Quantum Computing/GRAPE-for-qubit/.git/objects/e0', '/Users/khatran/Documents/Research Work/Quantum Computing/GRAPE-for-qubit/.git/objects/79', '/Users/khatran/Documents/Research Work/Quantum Computing/GRAPE-for-qubit/.git/objects/41', '/Users/khatran/Documents/Research Work/Quantum Computing/GRAPE-for-qubit/.git/objects/1b', '/Users/khatran/Documents/Research Work/Quantum Computing/GRAPE-for-qubit/.git/objects/77', '/Users/khatran/Documents/Research Work/Quantum Computing/GRAPE-for-qubit/.git/objects/1e', '/Users/khatran/Documents/Research Work/Quantum Computing/GRAPE-for-qubit/.git/objects/84', '/Users/khatran/Documents/Research Work/Quantum Computing/GRAPE-for-qubit/.git/objects/4a', '/Users/khatran/Documents/Research Work/Quantum Computing/GRAPE-for-qubit/.git/objects/23', '/Users/khatran/Documents/Research Work/Quantum Computing/GRAPE-for-qubit/.git/objects/4f', '/Users/khatran/Documents/Research Work/Quantum Computing/GRAPE-for-qubit/.git/objects/15', '/Users/khatran/Documents/Research Work/Quantum Computing/GRAPE-for-qubit/.git/objects/85', '/Users/khatran/Documents/Research Work/Quantum Computing/GRAPE-for-qubit/.git/objects/1d', '/Users/khatran/Documents/Research Work/Quantum Computing/GRAPE-for-qubit/.git/objects/71', '/Users/khatran/Documents/Research Work/Quantum Computing/GRAPE-for-qubit/.git/objects/1c', '/Users/khatran/Documents/Research Work/Quantum Computing/GRAPE-for-qubit/.git/objects/40', '/Users/khatran/Documents/Research Work/Quantum Computing/GRAPE-for-qubit/.git/objects/2b', '/Users/khatran/Documents/Research Work/Quantum Computing/GRAPE-for-qubit/.git/objects/8b', '/Users/khatran/Documents/Research Work/Quantum Computing/GRAPE-for-qubit/.git/objects/13', '/Users/khatran/Documents/Research Work/Quantum Computing/GRAPE-for-qubit/.git/objects/14', '/Users/khatran/Documents/Research Work/Quantum Computing/GRAPE-for-qubit/.git/objects/22', '/Users/khatran/Documents/Research Work/Quantum Computing/GRAPE-for-qubit/.git/objects/25', '/Users/khatran/Documents/Research Work/Quantum Computing/GRAPE-for-qubit/.git/logs/refs', '/Users/khatran/Documents/Research Work/Quantum Computing/GRAPE-for-qubit/.git/logs/refs/heads', '/Users/khatran/Documents/Research Work/Quantum Computing/GRAPE-for-qubit/.git/logs/refs/remotes', '/Users/khatran/Documents/Research Work/Quantum Computing/GRAPE-for-qubit/.git/logs/refs/remotes/origin', '/Users/khatran/Documents/Research Work/Quantum Computing/GRAPE-for-qubit/.git/refs/heads', '/Users/khatran/Documents/Research Work/Quantum Computing/GRAPE-for-qubit/.git/refs/tags', '/Users/khatran/Documents/Research Work/Quantum Computing/GRAPE-for-qubit/.git/refs/remotes', '/Users/khatran/Documents/Research Work/Quantum Computing/GRAPE-for-qubit/.git/refs/remotes/origin', '/Users/khatran/Documents/Research Work/Quantum Computing/GRAPE-for-qubit']\n"
     ]
    }
   ],
   "source": [
    "# index = sys.path.index('')\n",
    "# sys.path.pop(index)\n",
    "path = sys.path[0]\n",
    "parent_dir = os.path.abspath(os.path.join(os.getcwd(), os.pardir))\n",
    "\n",
    "for root, dirs, files in os.walk(parent_dir):\n",
    "    for dir in dirs:\n",
    "        sys.path.append(os.path.join(root, dir))\n",
    "\n",
    "sys.path.append(parent_dir)\n",
    "sys.path.pop(0)\n",
    "print(sys.path)"
   ]
  },
  {
   "cell_type": "code",
   "execution_count": 3,
   "metadata": {},
   "outputs": [],
   "source": [
    "%matplotlib inline\n",
    "\n",
    "import numpy as np\n",
    "import matplotlib.pyplot as plt\n",
    "import scipy.linalg as la\n",
    "import inspect\n",
    "from quantum_optimal_control.helper_functions.grape_functions import *\n",
    "from quantum_optimal_control.main_grape.grape import Grape\n",
    "\n",
    "data_path = '../output/x01_π/'"
   ]
  },
  {
   "cell_type": "code",
   "execution_count": 4,
   "metadata": {},
   "outputs": [],
   "source": [
    "from qiskit_ibm_runtime import QiskitRuntimeService\n",
    "\n",
    "# IBM Quantum channel; set to default\n",
    "QiskitRuntimeService.save_account(channel='ibm_quantum', token=\"0574c8c9cfdbc7c47815e6d5db41423ab35fd457b628bfe1d64b6e9280175fe913a69f1b4c7cdebcdc38a1d843c4200c073954d9f21848cbf9df808b100d17cf\", overwrite=True, set_as_default=True)"
   ]
  },
  {
   "cell_type": "code",
   "execution_count": 5,
   "metadata": {},
   "outputs": [],
   "source": [
    "# To access saved credentials for the IBM cloud channel\n",
    "# service = QiskitRuntimeService(channel=\"ibm_cloud\")\n",
    "\n",
    "# To access saved credentials for the IBM quantum channel\n",
    "service = QiskitRuntimeService(channel=\"ibm_quantum\")"
   ]
  },
  {
   "cell_type": "code",
   "execution_count": 6,
   "metadata": {},
   "outputs": [],
   "source": [
    "# Specify the instance in service.backend() instead of initializing a new device\n",
    "backend = service.backend(\"ibm_kyoto\")"
   ]
  },
  {
   "cell_type": "code",
   "execution_count": 7,
   "metadata": {},
   "outputs": [],
   "source": [
    "ns = 1.0e9\n",
    "config = backend.configuration()\n",
    "dt = config.dt\n",
    "acquire_alignment = config.timing_constraints['acquire_alignment']\n",
    "granularity = config.timing_constraints['granularity']\n",
    "pulse_alignment = config.timing_constraints['pulse_alignment']\n",
    "lcm = np.lcm(acquire_alignment, pulse_alignment)"
   ]
  },
  {
   "cell_type": "code",
   "execution_count": 8,
   "metadata": {},
   "outputs": [],
   "source": [
    "def get_closest_multiple_of(value, base_number):\n",
    "    return int(value + base_number/2) - (int(value + base_number/2) % base_number)\n",
    "\n",
    "def get_closest_multiple_of_16(num):\n",
    "    return get_closest_multiple_of(num, granularity)"
   ]
  },
  {
   "cell_type": "code",
   "execution_count": 9,
   "metadata": {},
   "outputs": [
    {
     "name": "stdout",
     "output_type": "stream",
     "text": [
      "['x']\n"
     ]
    }
   ],
   "source": [
    "#Defining time scales\n",
    "\n",
    "steps = 144 #1-2: 160\n",
    "steps = get_closest_multiple_of_16(steps)\n",
    "total_time = steps * dt * ns #ns dt = 0.2222222222\n",
    "\n",
    "# Choose optimizing State transfer or Unitary gate\n",
    "state_transfer = False\n",
    "\n",
    "#Defining H0\n",
    "qubit_state_num = 2 #change to 4\n",
    "qubit_num = 1 \n",
    "freq_ge = 0 #5.235350062289255 #GHz #change\n",
    "g_ops = 0.073036776 #GHz #change\n",
    "# 559352321.0160259\n",
    "\n",
    "ens = np.array([2 * np.pi * ii * (freq_ge) for ii in np.arange(qubit_state_num)])\n",
    "Q_x = np.diag(np.sqrt(np.arange(1, qubit_state_num)), 1) + np.diag(np.sqrt(np.arange(1, qubit_state_num)), -1)\n",
    "Q_y = (0 + 1j) * (np.diag(np.sqrt(np.arange(1, qubit_state_num)), 1) - np.diag(np.sqrt(np.arange(1, qubit_state_num)), -1))\n",
    "Q_z = np.diag(np.arange(0, qubit_state_num))\n",
    "I_q = np.identity(qubit_state_num)\n",
    "H_q = np.diag(ens)\n",
    "\n",
    "H0 = H_q\n",
    "\n",
    "#Defining Concerned states (starting states)\n",
    "g = np.array([1,0])\n",
    "e = np.array([0,1])\n",
    "psi0 = [g,e]\n",
    "\n",
    "#Defining states to include in the drawing of occupation\n",
    "states_draw_list = [0,1]\n",
    "states_draw_names = ['0','1']\n",
    "\n",
    "#Defining U (Target)\n",
    "target_vec_0 = np.zeros(qubit_state_num**qubit_num, dtype=complex)\n",
    "target_vec_0[1] = 1\n",
    "\n",
    "target_vec_1 = np.zeros(qubit_state_num**qubit_num, dtype=complex)\n",
    "target_vec_1[0] = 0\n",
    "    \n",
    "U = [target_vec_0,target_vec_1]\n",
    "\n",
    "#Defining U0 (Initial)\n",
    "q_identity = np.identity(qubit_state_num**qubit_num)\n",
    "U0 = q_identity\n",
    "\n",
    "#Defining control Hs\n",
    "XI = Q_x\n",
    "YI = Q_y\n",
    "ZI = Q_z\n",
    "Hops = [XI]                                                                            \n",
    "g_ops = 0.073036776 \n",
    "ops_max_amp = [2 * np.pi * g_ops] # = Omega_{d, 0}\n",
    "Hnames = ['x']\n",
    "\n",
    "print(Hnames)\n",
    "\n",
    "#Defining convergence parameters\n",
    "max_iterations = 1000\n",
    "decay = 5000 #max_iterations/2\n",
    "convergence = {'rate': 0.1, 'update_step': 1, 'max_iterations': max_iterations, 'conv_target': 1e-6, 'learning_rate_decay': decay}\n",
    "\n",
    "# guassian envelope pulse\n",
    "reg_coeffs = {'envelope': 0.1, 'dwdt': 0.001}"
   ]
  },
  {
   "cell_type": "code",
   "execution_count": 10,
   "metadata": {},
   "outputs": [
    {
     "name": "stdout",
     "output_type": "stream",
     "text": [
      "Data saved at: ../output/x01_π/00042_x01_lagos.h5\n",
      "Using 20 Taylor terms and 0 Scaling & Squaring terms\n",
      "[[0.10772689 0.11498124 0.12020121 0.12809776 0.1337067  0.14227076\n",
      "  0.14827129 0.15595753 0.16556309 0.17387719 0.18246796 0.18943164\n",
      "  0.19848436 0.20989783 0.21958947 0.22726732 0.23739434 0.24778135\n",
      "  0.25842336 0.27202124 0.28326685 0.29474985 0.30341242 0.31839334\n",
      "  0.33053428 0.34287351 0.35186274 0.36443536 0.37716607 0.39004044\n",
      "  0.40304315 0.42034059 0.43368364 0.4426563  0.46058642 0.46939076\n",
      "  0.48279841 0.496206   0.51471411 0.52293663 0.54160532 0.55493062\n",
      "  0.56249203 0.5754425  0.594149   0.60689104 0.6194282  0.62545078\n",
      "  0.63738697 0.64904995 0.66041656 0.67821231 0.6890255  0.69947117\n",
      "  0.70246753 0.7191733  0.72838797 0.72981686 0.7380281  0.74575607\n",
      "  0.76055141 0.76733016 0.77357221 0.77150965 0.77658634 0.7810935\n",
      "  0.78502086 0.79628265 0.79905232 0.7932409  0.79477255 0.79569296\n",
      "  0.796      0.79569296 0.79477255 0.80121317 0.79905232 0.78835944\n",
      "  0.78502086 0.78894369 0.77658634 0.77150965 0.76587498 0.75969504\n",
      "  0.75298374 0.74575607 0.74544547 0.72981686 0.72838797 0.7191733\n",
      "  0.70952751 0.69251126 0.68216953 0.67146393 0.66041656 0.65557307\n",
      "  0.63738697 0.63173672 0.61326474 0.60689104 0.58823707 0.5754425\n",
      "  0.56814522 0.55493062 0.53621621 0.52819228 0.50959257 0.496206\n",
      "  0.48279841 0.46939076 0.45600347 0.44710511 0.42936838 0.4161581\n",
      "  0.40304315 0.39396044 0.37716607 0.36809802 0.35539905 0.33946184\n",
      "  0.32724538 0.31522525 0.30341242 0.29474985 0.28326685 0.26931456\n",
      "  0.25842336 0.25027162 0.23978021 0.22726732 0.2174045  0.20780929\n",
      "  0.20047918 0.18943164 0.18246796 0.17387719 0.1639157  0.15752495\n",
      "  0.14827129 0.14227076 0.1337067  0.12809776 0.12140926 0.11498124]]\n",
      "Building graph:\n",
      "Propagators initialized.\n",
      "Operators weight initialized.\n",
      "Vectors initialized.\n",
      "Training loss initialized.\n",
      "Optimizer initialized.\n",
      "Utilities initialized.\n",
      "Graph built!\n",
      "Initialized\n",
      "Starting L-BFGS-B Optimization\n"
     ]
    },
    {
     "name": "stderr",
     "output_type": "stream",
     "text": [
      "2024-07-29 20:50:26.633662: I tensorflow/compiler/mlir/mlir_graph_optimization_pass.cc:388] MLIR V1 optimization pass is not enabled\n"
     ]
    },
    {
     "ename": "ValueError",
     "evalue": "'x0' must only have one dimension.",
     "output_type": "error",
     "traceback": [
      "\u001b[0;31m---------------------------------------------------------------------------\u001b[0m",
      "\u001b[0;31mValueError\u001b[0m                                Traceback (most recent call last)",
      "Cell \u001b[0;32mIn[10], line 1\u001b[0m\n\u001b[0;32m----> 1\u001b[0m uks, U_final \u001b[38;5;241m=\u001b[39m \u001b[43mGrape\u001b[49m\u001b[43m(\u001b[49m\u001b[43mH0\u001b[49m\u001b[43m,\u001b[49m\u001b[43m \u001b[49m\u001b[43mHops\u001b[49m\u001b[43m,\u001b[49m\u001b[43m \u001b[49m\u001b[43mHnames\u001b[49m\u001b[43m,\u001b[49m\u001b[43m \u001b[49m\u001b[43mU\u001b[49m\u001b[43m,\u001b[49m\u001b[43m \u001b[49m\u001b[43mtotal_time\u001b[49m\u001b[43m,\u001b[49m\u001b[43m \u001b[49m\u001b[43msteps\u001b[49m\u001b[43m,\u001b[49m\u001b[43m \u001b[49m\u001b[43mpsi0\u001b[49m\u001b[43m,\u001b[49m\n\u001b[1;32m      2\u001b[0m \u001b[43m                    \u001b[49m\u001b[43mconvergence\u001b[49m\u001b[43m \u001b[49m\u001b[38;5;241;43m=\u001b[39;49m\u001b[43m \u001b[49m\u001b[43mconvergence\u001b[49m\u001b[43m,\u001b[49m\u001b[43m \u001b[49m\n\u001b[1;32m      3\u001b[0m \u001b[43m                    \u001b[49m\u001b[43mdraw\u001b[49m\u001b[43m \u001b[49m\u001b[38;5;241;43m=\u001b[39;49m\u001b[43m \u001b[49m\u001b[43m[\u001b[49m\u001b[43mstates_draw_list\u001b[49m\u001b[43m,\u001b[49m\u001b[43m \u001b[49m\u001b[43mstates_draw_names\u001b[49m\u001b[43m]\u001b[49m\u001b[43m,\u001b[49m\n\u001b[1;32m      4\u001b[0m \u001b[43m                    \u001b[49m\u001b[43mstate_transfer\u001b[49m\u001b[43m \u001b[49m\u001b[38;5;241;43m=\u001b[39;49m\u001b[43m \u001b[49m\u001b[38;5;28;43;01mTrue\u001b[39;49;00m\u001b[43m,\u001b[49m\n\u001b[1;32m      5\u001b[0m \u001b[43m                    \u001b[49m\u001b[43muse_gpu\u001b[49m\u001b[43m \u001b[49m\u001b[38;5;241;43m=\u001b[39;49m\u001b[43m \u001b[49m\u001b[38;5;28;43;01mFalse\u001b[39;49;00m\u001b[43m,\u001b[49m\n\u001b[1;32m      6\u001b[0m \u001b[43m                    \u001b[49m\u001b[43msparse_H\u001b[49m\u001b[43m \u001b[49m\u001b[38;5;241;43m=\u001b[39;49m\u001b[43m \u001b[49m\u001b[38;5;28;43;01mFalse\u001b[39;49;00m\u001b[43m,\u001b[49m\n\u001b[1;32m      7\u001b[0m \u001b[43m                    \u001b[49m\u001b[43mshow_plots\u001b[49m\u001b[43m \u001b[49m\u001b[38;5;241;43m=\u001b[39;49m\u001b[43m \u001b[49m\u001b[38;5;28;43;01mTrue\u001b[39;49;00m\u001b[43m,\u001b[49m\u001b[43m \u001b[49m\n\u001b[1;32m      8\u001b[0m \u001b[43m                    \u001b[49m\u001b[43munitary_error\u001b[49m\u001b[43m \u001b[49m\u001b[38;5;241;43m=\u001b[39;49m\u001b[43m \u001b[49m\u001b[38;5;241;43m1e-6\u001b[39;49m\u001b[43m,\u001b[49m\u001b[43m \u001b[49m\n\u001b[1;32m      9\u001b[0m \u001b[43m                    \u001b[49m\u001b[43mmethod\u001b[49m\u001b[43m \u001b[49m\u001b[38;5;241;43m=\u001b[39;49m\u001b[43m \u001b[49m\u001b[38;5;124;43m'\u001b[39;49m\u001b[38;5;124;43mL-BFGS-B\u001b[39;49m\u001b[38;5;124;43m'\u001b[39;49m\u001b[43m,\u001b[49m\u001b[43m \u001b[49m\n\u001b[1;32m     10\u001b[0m \u001b[43m                    \u001b[49m\u001b[43mmaxA\u001b[49m\u001b[43m \u001b[49m\u001b[38;5;241;43m=\u001b[39;49m\u001b[43m \u001b[49m\u001b[43mops_max_amp\u001b[49m\u001b[43m,\u001b[49m\n\u001b[1;32m     11\u001b[0m \u001b[43m                    \u001b[49m\u001b[43mTaylor_terms\u001b[49m\u001b[43m \u001b[49m\u001b[38;5;241;43m=\u001b[39;49m\u001b[43m \u001b[49m\u001b[43m[\u001b[49m\u001b[38;5;241;43m20\u001b[39;49m\u001b[43m,\u001b[49m\u001b[38;5;241;43m0\u001b[39;49m\u001b[43m]\u001b[49m\u001b[43m,\u001b[49m\n\u001b[1;32m     12\u001b[0m \u001b[43m                    \u001b[49m\u001b[43mreg_coeffs\u001b[49m\u001b[43m \u001b[49m\u001b[38;5;241;43m=\u001b[39;49m\u001b[43m \u001b[49m\u001b[43mreg_coeffs\u001b[49m\u001b[43m,\u001b[49m\n\u001b[1;32m     13\u001b[0m \u001b[43m                    \u001b[49m\u001b[43msave\u001b[49m\u001b[43m \u001b[49m\u001b[38;5;241;43m=\u001b[39;49m\u001b[43m \u001b[49m\u001b[38;5;28;43;01mTrue\u001b[39;49;00m\u001b[43m,\u001b[49m\n\u001b[1;32m     14\u001b[0m \u001b[43m                    \u001b[49m\u001b[43mfile_name\u001b[49m\u001b[43m \u001b[49m\u001b[38;5;241;43m=\u001b[39;49m\u001b[43m \u001b[49m\u001b[38;5;124;43m'\u001b[39;49m\u001b[38;5;124;43mx01_lagos\u001b[39;49m\u001b[38;5;124;43m'\u001b[39;49m\u001b[43m,\u001b[49m\n\u001b[1;32m     15\u001b[0m \u001b[43m                    \u001b[49m\u001b[43mdata_path\u001b[49m\u001b[43m \u001b[49m\u001b[38;5;241;43m=\u001b[39;49m\u001b[43m \u001b[49m\u001b[43mdata_path\u001b[49m\u001b[43m)\u001b[49m\n",
      "File \u001b[0;32m~/Documents/Research Work/Quantum Computing/GRAPE-for-qubit/quantum_optimal_control/main_grape/grape.py:137\u001b[0m, in \u001b[0;36mGrape\u001b[0;34m(H0, Hops, Hnames, U, total_time, steps, states_concerned_list, convergence, U0, reg_coeffs, dressed_info, maxA, use_gpu, sparse_H, sparse_U, sparse_K, draw, initial_guess, show_plots, unitary_error, method, state_transfer, no_scaling, freq_unit, file_name, save, data_path, Taylor_terms, use_inter_vecs)\u001b[0m\n\u001b[1;32m    135\u001b[0m \u001b[38;5;66;03m# run the optimization\u001b[39;00m\n\u001b[1;32m    136\u001b[0m \u001b[38;5;28;01mtry\u001b[39;00m:\n\u001b[0;32m--> 137\u001b[0m     SS \u001b[38;5;241m=\u001b[39m \u001b[43mrun_session\u001b[49m\u001b[43m(\u001b[49m\u001b[43mtfs\u001b[49m\u001b[43m,\u001b[49m\u001b[43m \u001b[49m\u001b[43mgraph\u001b[49m\u001b[43m,\u001b[49m\u001b[43m \u001b[49m\u001b[43mconv\u001b[49m\u001b[43m,\u001b[49m\u001b[43m \u001b[49m\u001b[43msys_para\u001b[49m\u001b[43m,\u001b[49m\u001b[43m \u001b[49m\u001b[43mmethod\u001b[49m\u001b[43m,\u001b[49m\u001b[43m \u001b[49m\n\u001b[1;32m    138\u001b[0m \u001b[43m                     \u001b[49m\u001b[43mshow_plots\u001b[49m\u001b[38;5;241;43m=\u001b[39;49m\u001b[43msys_para\u001b[49m\u001b[38;5;241;43m.\u001b[39;49m\u001b[43mshow_plots\u001b[49m\u001b[43m,\u001b[49m\u001b[43m \u001b[49m\n\u001b[1;32m    139\u001b[0m \u001b[43m                     \u001b[49m\u001b[43muse_gpu\u001b[49m\u001b[38;5;241;43m=\u001b[39;49m\u001b[43muse_gpu\u001b[49m\u001b[43m)\u001b[49m\n\u001b[1;32m    141\u001b[0m     \u001b[38;5;66;03m# save wall clock time\u001b[39;00m\n\u001b[1;32m    142\u001b[0m     \u001b[38;5;28;01mif\u001b[39;00m save:\n",
      "File \u001b[0;32m~/Documents/Research Work/Quantum Computing/GRAPE-for-qubit/quantum_optimal_control/core/run_session.py:40\u001b[0m, in \u001b[0;36mrun_session.__init__\u001b[0;34m(self, tfs, graph, conv, sys_para, method, show_plots, single_simulation, use_gpu)\u001b[0m\n\u001b[1;32m     38\u001b[0m \u001b[38;5;28;01melse\u001b[39;00m:\n\u001b[1;32m     39\u001b[0m     \u001b[38;5;28;01mif\u001b[39;00m \u001b[38;5;28mself\u001b[39m\u001b[38;5;241m.\u001b[39mmethod \u001b[38;5;241m!=\u001b[39m \u001b[38;5;124m'\u001b[39m\u001b[38;5;124mADAM\u001b[39m\u001b[38;5;124m'\u001b[39m: \u001b[38;5;66;03m#Any BFGS scheme\u001b[39;00m\n\u001b[0;32m---> 40\u001b[0m         \u001b[38;5;28;43mself\u001b[39;49m\u001b[38;5;241;43m.\u001b[39;49m\u001b[43mbfgs_optimize\u001b[49m\u001b[43m(\u001b[49m\u001b[43mmethod\u001b[49m\u001b[38;5;241;43m=\u001b[39;49m\u001b[38;5;28;43mself\u001b[39;49m\u001b[38;5;241;43m.\u001b[39;49m\u001b[43mmethod\u001b[49m\u001b[43m)\u001b[49m\n\u001b[1;32m     42\u001b[0m     \u001b[38;5;28;01mif\u001b[39;00m \u001b[38;5;28mself\u001b[39m\u001b[38;5;241m.\u001b[39mmethod \u001b[38;5;241m==\u001b[39m \u001b[38;5;124m'\u001b[39m\u001b[38;5;124mADAM\u001b[39m\u001b[38;5;124m'\u001b[39m:\n\u001b[1;32m     43\u001b[0m         \u001b[38;5;28mself\u001b[39m\u001b[38;5;241m.\u001b[39mstart_adam_optimizer()\n",
      "File \u001b[0;32m~/Documents/Research Work/Quantum Computing/GRAPE-for-qubit/quantum_optimal_control/core/run_session.py:77\u001b[0m, in \u001b[0;36mrun_session.bfgs_optimize\u001b[0;34m(self, method, jac, options)\u001b[0m\n\u001b[1;32m     75\u001b[0m x0 \u001b[38;5;241m=\u001b[39m \u001b[38;5;28mself\u001b[39m\u001b[38;5;241m.\u001b[39msys_para\u001b[38;5;241m.\u001b[39mops_weight_base\n\u001b[1;32m     76\u001b[0m options \u001b[38;5;241m=\u001b[39m {\u001b[38;5;124m'\u001b[39m\u001b[38;5;124mmaxfun\u001b[39m\u001b[38;5;124m'\u001b[39m: \u001b[38;5;28mself\u001b[39m\u001b[38;5;241m.\u001b[39mconv\u001b[38;5;241m.\u001b[39mmax_iterations, \u001b[38;5;124m'\u001b[39m\u001b[38;5;124mgtol\u001b[39m\u001b[38;5;124m'\u001b[39m: \u001b[38;5;28mself\u001b[39m\u001b[38;5;241m.\u001b[39mconv\u001b[38;5;241m.\u001b[39mmin_grad, \u001b[38;5;124m'\u001b[39m\u001b[38;5;124mdisp\u001b[39m\u001b[38;5;124m'\u001b[39m: \u001b[38;5;28;01mFalse\u001b[39;00m, \u001b[38;5;124m'\u001b[39m\u001b[38;5;124mmaxls\u001b[39m\u001b[38;5;124m'\u001b[39m: \u001b[38;5;241m40\u001b[39m}\n\u001b[0;32m---> 77\u001b[0m res \u001b[38;5;241m=\u001b[39m \u001b[43mminimize\u001b[49m\u001b[43m(\u001b[49m\u001b[38;5;28;43mself\u001b[39;49m\u001b[38;5;241;43m.\u001b[39;49m\u001b[43mminimize_opt_fun\u001b[49m\u001b[43m,\u001b[49m\u001b[43m \u001b[49m\u001b[43mx0\u001b[49m\u001b[43m,\u001b[49m\u001b[43m \u001b[49m\u001b[43mmethod\u001b[49m\u001b[38;5;241;43m=\u001b[39;49m\u001b[43mmethod\u001b[49m\u001b[43m,\u001b[49m\u001b[43m \u001b[49m\u001b[43mjac\u001b[49m\u001b[38;5;241;43m=\u001b[39;49m\u001b[43mjac\u001b[49m\u001b[43m,\u001b[49m\u001b[43m \u001b[49m\u001b[43moptions\u001b[49m\u001b[38;5;241;43m=\u001b[39;49m\u001b[43moptions\u001b[49m\u001b[43m)\u001b[49m\n\u001b[1;32m     78\u001b[0m uks \u001b[38;5;241m=\u001b[39m np\u001b[38;5;241m.\u001b[39mreshape(res[\u001b[38;5;124m'\u001b[39m\u001b[38;5;124mx\u001b[39m\u001b[38;5;124m'\u001b[39m], (\u001b[38;5;28mlen\u001b[39m(\u001b[38;5;28mself\u001b[39m\u001b[38;5;241m.\u001b[39msys_para\u001b[38;5;241m.\u001b[39mops_c), \u001b[38;5;28mlen\u001b[39m(res[\u001b[38;5;124m'\u001b[39m\u001b[38;5;124mx\u001b[39m\u001b[38;5;124m'\u001b[39m]) \u001b[38;5;241m/\u001b[39m\u001b[38;5;241m/\u001b[39m \u001b[38;5;28mlen\u001b[39m(\u001b[38;5;28mself\u001b[39m\u001b[38;5;241m.\u001b[39msys_para\u001b[38;5;241m.\u001b[39mops_c)))\n\u001b[1;32m     79\u001b[0m \u001b[38;5;28mprint\u001b[39m(\u001b[38;5;28mself\u001b[39m\u001b[38;5;241m.\u001b[39mmethod \u001b[38;5;241m+\u001b[39m \u001b[38;5;124m'\u001b[39m\u001b[38;5;124m optimization done\u001b[39m\u001b[38;5;124m'\u001b[39m)\n",
      "File \u001b[0;32m~/anaconda3/envs/quantum/lib/python3.11/site-packages/scipy/optimize/_minimize.py:550\u001b[0m, in \u001b[0;36mminimize\u001b[0;34m(fun, x0, args, method, jac, hess, hessp, bounds, constraints, tol, callback, options)\u001b[0m\n\u001b[1;32m    547\u001b[0m x0 \u001b[38;5;241m=\u001b[39m np\u001b[38;5;241m.\u001b[39matleast_1d(np\u001b[38;5;241m.\u001b[39masarray(x0))\n\u001b[1;32m    549\u001b[0m \u001b[38;5;28;01mif\u001b[39;00m x0\u001b[38;5;241m.\u001b[39mndim \u001b[38;5;241m!=\u001b[39m \u001b[38;5;241m1\u001b[39m:\n\u001b[0;32m--> 550\u001b[0m     \u001b[38;5;28;01mraise\u001b[39;00m \u001b[38;5;167;01mValueError\u001b[39;00m(\u001b[38;5;124m\"\u001b[39m\u001b[38;5;124m'\u001b[39m\u001b[38;5;124mx0\u001b[39m\u001b[38;5;124m'\u001b[39m\u001b[38;5;124m must only have one dimension.\u001b[39m\u001b[38;5;124m\"\u001b[39m)\n\u001b[1;32m    552\u001b[0m \u001b[38;5;28;01mif\u001b[39;00m x0\u001b[38;5;241m.\u001b[39mdtype\u001b[38;5;241m.\u001b[39mkind \u001b[38;5;129;01min\u001b[39;00m np\u001b[38;5;241m.\u001b[39mtypecodes[\u001b[38;5;124m\"\u001b[39m\u001b[38;5;124mAllInteger\u001b[39m\u001b[38;5;124m\"\u001b[39m]:\n\u001b[1;32m    553\u001b[0m     x0 \u001b[38;5;241m=\u001b[39m np\u001b[38;5;241m.\u001b[39masarray(x0, dtype\u001b[38;5;241m=\u001b[39m\u001b[38;5;28mfloat\u001b[39m)\n",
      "\u001b[0;31mValueError\u001b[0m: 'x0' must only have one dimension."
     ]
    },
    {
     "data": {
      "text/plain": [
       "<Figure size 640x480 with 0 Axes>"
      ]
     },
     "metadata": {},
     "output_type": "display_data"
    }
   ],
   "source": [
    "uks, U_final = Grape(H0, Hops, Hnames, U, total_time, steps, psi0,\n",
    "                    convergence = convergence, \n",
    "                    draw = [states_draw_list, states_draw_names],\n",
    "                    state_transfer = True,\n",
    "                    use_gpu = False,\n",
    "                    sparse_H = False,\n",
    "                    show_plots = True, \n",
    "                    unitary_error = 1e-6, \n",
    "                    method = 'L-BFGS-B', \n",
    "                    maxA = ops_max_amp,\n",
    "                    Taylor_terms = [20,0],\n",
    "                    reg_coeffs = reg_coeffs,\n",
    "                    save = True,\n",
    "                    file_name = 'x01_lagos',\n",
    "                    data_path = data_path)"
   ]
  },
  {
   "cell_type": "code",
   "execution_count": null,
   "metadata": {},
   "outputs": [],
   "source": []
  }
 ],
 "metadata": {
  "kernelspec": {
   "display_name": "quantum",
   "language": "python",
   "name": "python3"
  },
  "language_info": {
   "codemirror_mode": {
    "name": "ipython",
    "version": 3
   },
   "file_extension": ".py",
   "mimetype": "text/x-python",
   "name": "python",
   "nbconvert_exporter": "python",
   "pygments_lexer": "ipython3",
   "version": "3.11.9"
  },
  "orig_nbformat": 4
 },
 "nbformat": 4,
 "nbformat_minor": 2
}
