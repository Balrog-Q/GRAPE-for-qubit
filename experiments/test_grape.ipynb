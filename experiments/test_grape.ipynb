{
 "cells": [
  {
   "cell_type": "code",
   "execution_count": 1,
   "metadata": {},
   "outputs": [
    {
     "data": {
      "text/plain": [
       "'/Users/khatran/Library/CloudStorage/OneDrive-TrườngĐạihọcPhenikaa/Quantum Computing/GitHub/GRAPE/GRAPE-for-qubit/experiments'"
      ]
     },
     "execution_count": 1,
     "metadata": {},
     "output_type": "execute_result"
    }
   ],
   "source": [
    "import os\n",
    "import sys\n",
    "\n",
    "index = sys.path.index('')\n",
    "sys.path.pop(index)\n",
    "path = sys.path[0]\n",
    "parent_dir = os.path.abspath(os.path.join(path, os.pardir))\n",
    "\n",
    "for root, dirs, files in os.walk(parent_dir):\n",
    "    for dir in dirs:\n",
    "        sys.path.append(os.path.join(root,dir))\n",
    "\n",
    "sys.path.append(parent_dir)\n",
    "sys.path.pop(0)"
   ]
  },
  {
   "cell_type": "code",
   "execution_count": 2,
   "metadata": {},
   "outputs": [
    {
     "name": "stderr",
     "output_type": "stream",
     "text": [
      "2023-06-16 15:19:58.183100: I tensorflow/core/platform/cpu_feature_guard.cc:182] This TensorFlow binary is optimized to use available CPU instructions in performance-critical operations.\n",
      "To enable the following instructions: AVX2 FMA, in other operations, rebuild TensorFlow with the appropriate compiler flags.\n",
      "/Users/khatran/miniconda3/envs/quantum/lib/python3.10/site-packages/requests/__init__.py:102: RequestsDependencyWarning: urllib3 (1.26.9) or chardet (5.1.0)/charset_normalizer (None) doesn't match a supported version!\n",
      "  warnings.warn(\"urllib3 ({}) or chardet ({})/charset_normalizer ({}) doesn't match a supported \"\n"
     ]
    }
   ],
   "source": [
    "%matplotlib inline\n",
    "\n",
    "import numpy as np\n",
    "import matplotlib.pyplot as plt\n",
    "import scipy.linalg as la\n",
    "import inspect\n",
    "\n",
    "from quantum_optimal_control.helper_functions.grape_functions import *\n",
    "from quantum_optimal_control.main_grape.grape import Grape"
   ]
  },
  {
   "cell_type": "code",
   "execution_count": 3,
   "metadata": {},
   "outputs": [
    {
     "name": "stdout",
     "output_type": "stream",
     "text": [
      "ens:  [ 0.         32.89436004]\n",
      "Q_x: \n",
      " [[0. 1.]\n",
      " [1. 0.]]\n",
      "Q_y: \n",
      " [[ 0.+0.j  0.+1.j]\n",
      " [-0.-1.j  0.+0.j]]\n",
      "Q_z: \n",
      " [[0 0]\n",
      " [0 1]]\n",
      "I_q: \n",
      " [[1. 0.]\n",
      " [0. 1.]]\n",
      "H_0: \n",
      " [[ 0.          0.        ]\n",
      " [ 0.         32.89436004]]\n"
     ]
    }
   ],
   "source": [
    "qubit_state_num = 2\n",
    "qubit_num = 1\n",
    "freq_ge = 5.2353\n",
    "g_ops = 0.073\n",
    "\n",
    "ens = np.array([2 * np.pi * ii * (freq_ge) for ii in np.arange(qubit_state_num)])\n",
    "Q_x = np.diag(np.sqrt(np.arange(1, qubit_state_num)), 1) + np.diag(np.sqrt(np.arange(1, qubit_state_num)), -1)\n",
    "Q_y = (0 + 1j) * (np.diag(np.sqrt(np.arange(1, qubit_state_num)), 1) - np.diag(np.sqrt(np.arange(1, qubit_state_num)), -1))\n",
    "Q_z = np.diag(np.arange(0, qubit_state_num))\n",
    "I_q = np.identity(qubit_state_num)\n",
    "H_q = np.diag(ens)\n",
    "\n",
    "H0 = H_q\n",
    "print(\"ens: \", ens)\n",
    "print(\"Q_x: \\n\", Q_x)\n",
    "print(\"Q_y: \\n\", Q_y)\n",
    "print(\"Q_z: \\n\", Q_z)\n",
    "print(\"I_q: \\n\", I_q)\n",
    "print(\"H_0: \\n\", H_q)"
   ]
  },
  {
   "cell_type": "code",
   "execution_count": 10,
   "metadata": {},
   "outputs": [
    {
     "name": "stdout",
     "output_type": "stream",
     "text": [
      "[[1. 0.]\n",
      " [0. 1.]]\n"
     ]
    }
   ],
   "source": [
    "U0 = np.identity(len(H0))\n",
    "print(U0)"
   ]
  },
  {
   "cell_type": "code",
   "execution_count": 11,
   "metadata": {},
   "outputs": [],
   "source": [
    "ops_max_amp = [2 * np.pi * g_ops]"
   ]
  },
  {
   "cell_type": "code",
   "execution_count": 9,
   "metadata": {},
   "outputs": [
    {
     "name": "stdout",
     "output_type": "stream",
     "text": [
      "[0.45867252742410974]\n"
     ]
    }
   ],
   "source": [
    "print(ops_max_amp)"
   ]
  },
  {
   "cell_type": "code",
   "execution_count": 12,
   "metadata": {},
   "outputs": [],
   "source": [
    "maxAmp = ops_max_amp"
   ]
  },
  {
   "cell_type": "code",
   "execution_count": 17,
   "metadata": {},
   "outputs": [
    {
     "name": "stdout",
     "output_type": "stream",
     "text": [
      "[array([1, 0]), array([0, 1])]\n"
     ]
    }
   ],
   "source": [
    "g = np.array([1,0])\n",
    "e = np.array([0,1])\n",
    "psi0 = [g,e]\n",
    "print(psi0)"
   ]
  },
  {
   "cell_type": "code",
   "execution_count": 18,
   "metadata": {},
   "outputs": [
    {
     "name": "stdout",
     "output_type": "stream",
     "text": [
      "[array([0.+0.j, 1.+0.j]), array([1.+0.j, 0.+0.j])]\n"
     ]
    }
   ],
   "source": [
    "target_vec_0 = np.zeros(qubit_state_num**qubit_num, dtype=complex)\n",
    "target_vec_0[1] = 1\n",
    "\n",
    "target_vec_1 = np.zeros(qubit_state_num**qubit_num, dtype=complex)\n",
    "target_vec_1[0] = 1\n",
    "\n",
    "U = [target_vec_0,target_vec_1]\n",
    "print(U)"
   ]
  },
  {
   "cell_type": "code",
   "execution_count": 19,
   "metadata": {},
   "outputs": [
    {
     "name": "stdout",
     "output_type": "stream",
     "text": [
      "[[ 1.  0. -0. -0.]\n",
      " [ 0.  1. -0. -0.]\n",
      " [ 0.  0.  1.  0.]\n",
      " [ 0.  0.  0.  1.]]\n"
     ]
    }
   ],
   "source": [
    "print(c_to_r_mat(U0))"
   ]
  },
  {
   "cell_type": "code",
   "execution_count": 21,
   "metadata": {},
   "outputs": [
    {
     "name": "stdout",
     "output_type": "stream",
     "text": [
      "[0.+0.j 1.+0.j]\n",
      "[0. 1. 0. 0.]\n",
      "[1.+0.j 0.+0.j]\n",
      "[1. 0. 0. 0.]\n"
     ]
    }
   ],
   "source": [
    "for target_vector_c in U:\n",
    "    print(target_vector_c)\n",
    "    print(c_to_r_vec(target_vector_c))"
   ]
  },
  {
   "cell_type": "code",
   "execution_count": 22,
   "metadata": {},
   "outputs": [
    {
     "name": "stdout",
     "output_type": "stream",
     "text": [
      "[array([1, 0]), array([0, 1])]\n"
     ]
    }
   ],
   "source": [
    "initial_vectors_c = []\n",
    "initial_vectors = []\n",
    "for state in psi0:\n",
    "    initial_vector_c = np.array(state)\n",
    "    initial_vectors_c.append(initial_vector_c)\n",
    "    initial_vector = c_to_r_vec(initial_vector_c)\n",
    "    initial_vectors.append(initial_vector)\n",
    "\n",
    "print(initial_vectors_c)"
   ]
  },
  {
   "cell_type": "code",
   "execution_count": 23,
   "metadata": {},
   "outputs": [
    {
     "name": "stdout",
     "output_type": "stream",
     "text": [
      "[array([1, 0, 0, 0]), array([0, 1, 0, 0])]\n"
     ]
    }
   ],
   "source": [
    "print(initial_vectors)"
   ]
  },
  {
   "cell_type": "code",
   "execution_count": 25,
   "metadata": {},
   "outputs": [
    {
     "data": {
      "text/plain": [
       "[array([[0., 1.],\n",
       "        [1., 0.]])]"
      ]
     },
     "execution_count": 25,
     "metadata": {},
     "output_type": "execute_result"
    }
   ],
   "source": [
    "Hops = [Q_x]\n",
    "Hops"
   ]
  },
  {
   "cell_type": "code",
   "execution_count": 26,
   "metadata": {},
   "outputs": [
    {
     "name": "stdout",
     "output_type": "stream",
     "text": [
      "[array([[0., 1.],\n",
      "       [1., 0.]])] \n",
      "\n",
      "[[0. 1.]\n",
      " [1. 0.]] \n",
      "\n",
      "[[ 0.          0.         -0.          0.22222222]\n",
      " [ 0.          0.          0.22222222 -0.        ]\n",
      " [ 0.         -0.22222222  0.          0.        ]\n",
      " [-0.22222222  0.          0.          0.        ]] \n",
      "\n",
      "\n",
      "\n",
      "[array([[ 0.        ,  0.        , -0.        ,  0.22222222],\n",
      "       [ 0.        ,  0.        ,  0.22222222, -0.        ],\n",
      "       [ 0.        , -0.22222222,  0.        ,  0.        ],\n",
      "       [-0.22222222,  0.        ,  0.        ,  0.        ]])]\n"
     ]
    }
   ],
   "source": [
    "ops_c = Hops\n",
    "ops = []\n",
    "dt = float(32) / 144\n",
    "print(ops_c, \"\\n\")\n",
    "for op_c in ops_c:\n",
    "    print(op_c, \"\\n\")\n",
    "    op = c_to_r_mat(-1j * dt * op_c)\n",
    "    print(op, \"\\n\")\n",
    "    ops.append(op)\n",
    "\n",
    "print(\"\\n\")\n",
    "print(ops)"
   ]
  },
  {
   "cell_type": "code",
   "execution_count": 27,
   "metadata": {},
   "outputs": [
    {
     "name": "stdout",
     "output_type": "stream",
     "text": [
      "0.08333333333333333\n",
      "1\n"
     ]
    }
   ],
   "source": [
    "initial_mean = 0\n",
    "index = 0\n",
    "initial_stddev = (1. / np.sqrt(144))\n",
    "print(initial_stddev)\n",
    "ops_len = len(ops)\n",
    "print(ops_len)"
   ]
  },
  {
   "cell_type": "code",
   "execution_count": 28,
   "metadata": {},
   "outputs": [],
   "source": [
    "ops_weight_base = np.random.normal(initial_mean, initial_stddev, [ops_len, 144])"
   ]
  },
  {
   "cell_type": "code",
   "execution_count": 29,
   "metadata": {},
   "outputs": [
    {
     "data": {
      "text/plain": [
       "(1, 144)"
      ]
     },
     "execution_count": 29,
     "metadata": {},
     "output_type": "execute_result"
    }
   ],
   "source": [
    "np.shape(ops_weight_base)"
   ]
  },
  {
   "cell_type": "code",
   "execution_count": 30,
   "metadata": {},
   "outputs": [
    {
     "name": "stdout",
     "output_type": "stream",
     "text": [
      "[[-1.19468225e-01 -7.54724097e-02 -7.94475950e-02 -2.34404850e-01\n",
      "   6.60244105e-02  7.16778561e-02 -8.04260718e-03  1.10039219e-01\n",
      "  -1.02740968e-01 -7.29257626e-02 -7.15860493e-03 -5.25119222e-02\n",
      "   1.22435707e-01  8.23164449e-02 -1.26528023e-02 -2.33154266e-02\n",
      "  -3.67933768e-02  1.48529131e-02  7.55110030e-02 -1.85473079e-02\n",
      "   1.59605073e-01 -4.45825823e-02 -9.27129877e-02  1.39632109e-01\n",
      "  -5.51927523e-02 -1.29473319e-02  2.81403409e-02 -1.81386963e-01\n",
      "  -1.49294604e-01  9.43184247e-02 -7.47616398e-02 -9.96403021e-02\n",
      "   1.82539946e-01 -2.19125974e-02  1.22578312e-03 -6.79661423e-02\n",
      "   5.08559403e-02 -1.08907493e-01 -3.55009692e-02  3.02612224e-02\n",
      "  -4.40290340e-02 -3.14553164e-04 -1.21449214e-01 -3.22009536e-02\n",
      "   1.35216724e-02  5.24672268e-02 -6.59627643e-03 -1.16817041e-01\n",
      "  -3.73005620e-02 -5.19024191e-02  2.24156070e-02 -8.67939960e-03\n",
      "  -9.68531581e-03 -9.31657106e-02 -6.40725827e-02  2.95175846e-02\n",
      "  -7.01084035e-03 -5.52434996e-02  8.43001806e-02 -5.09408531e-02\n",
      "   1.49386603e-01  4.54386983e-02 -1.39523912e-01 -2.35908134e-02\n",
      "  -6.45586084e-02  2.33812885e-01 -6.29521710e-02  6.72978106e-02\n",
      "   2.96422415e-02 -7.04610715e-02 -1.46352576e-02  9.37305127e-03\n",
      "  -1.30224055e-01 -3.63665340e-02 -8.07355797e-03 -1.21952497e-01\n",
      "   1.42032718e-02 -2.60199173e-02  7.77772057e-02 -3.49805708e-03\n",
      "  -1.33620872e-01 -1.53759980e-01 -7.85457140e-02 -1.00448882e-01\n",
      "   7.31932929e-02  2.36344029e-02  1.15186304e-02 -6.89953646e-02\n",
      "  -2.69317518e-02  2.56796435e-02 -1.10857320e-01  1.78494091e-01\n",
      "  -6.79491670e-02 -1.85624933e-01  5.67511084e-03  1.82862868e-02\n",
      "   7.89996959e-02  6.06307534e-02 -5.41254887e-02 -9.54819200e-02\n",
      "   2.11334355e-02  5.45752678e-02 -4.45373229e-02  9.05348876e-02\n",
      "   1.78144054e-02  5.32003085e-02 -1.60382505e-01  7.03028856e-02\n",
      "  -1.19784866e-01 -7.29152470e-02 -1.11784058e-01 -1.07572801e-01\n",
      "  -2.30003561e-02 -2.23143573e-02  4.68148541e-02 -8.73878049e-02\n",
      "  -1.17038457e-02  7.23644809e-02 -2.03683759e-02 -7.09740977e-02\n",
      "   4.83222643e-03 -1.32866340e-01  1.70328837e-01 -2.01923507e-01\n",
      "  -5.51204774e-02  6.21263385e-02  1.17028530e-01 -7.42848304e-03\n",
      "   2.80619796e-01 -2.17837329e-02  6.39691814e-02 -7.67509262e-03\n",
      "   9.43654221e-05  9.57824267e-03  1.11910870e-03  5.58352941e-02\n",
      "   5.48829278e-03 -1.58443877e-01 -1.00183460e-01  1.12349573e-01\n",
      "   1.94192474e-02  1.72717718e-01  9.18457907e-02 -1.83214685e-02]]\n"
     ]
    }
   ],
   "source": [
    "print(ops_weight_base)"
   ]
  },
  {
   "cell_type": "code",
   "execution_count": 37,
   "metadata": {},
   "outputs": [
    {
     "name": "stdout",
     "output_type": "stream",
     "text": [
      "[[ 0.01834565 -0.18242565  0.03113398  0.05929617  0.04425729 -0.0107009\n",
      "  -0.05860738 -0.02115113 -0.04537383  0.0107076   0.03373125  0.13044663\n",
      "  -0.0293219   0.09551928 -0.10111013 -0.07192568 -0.028519   -0.00876622\n",
      "   0.0221522  -0.03698089  0.12662456 -0.0334239   0.08919072  0.14572009\n",
      "  -0.1228914  -0.04815466  0.06469844 -0.00266782 -0.03364935 -0.08758352\n",
      "  -0.05686997  0.25069399 -0.00273506 -0.13137065  0.0996573  -0.01161446\n",
      "  -0.12512831 -0.01758721  0.09621938  0.08735422 -0.06649542 -0.06033598\n",
      "  -0.08772867  0.05734727 -0.09001121  0.01940633 -0.06608273 -0.09535911\n",
      "   0.06863849  0.03545709  0.03170354 -0.02425307  0.03402544  0.01793063\n",
      "   0.03612955 -0.1410524  -0.11850085  0.07131446 -0.00283635 -0.0203024\n",
      "  -0.18160637  0.07706948  0.03547124 -0.15088264 -0.20893298 -0.05174669\n",
      "   0.0592587  -0.01442901  0.02380516  0.18889685  0.04567628 -0.08854889\n",
      "  -0.07737901 -0.02720198  0.14865859  0.07737038  0.06220149 -0.05760008\n",
      "   0.00179261  0.0807449  -0.04477362 -0.03843673  0.14659385 -0.00423106\n",
      "  -0.00214712 -0.15385363 -0.05146392 -0.05799635 -0.061427    0.01072777\n",
      "   0.0102701   0.03901586  0.07153038 -0.08172602 -0.03210224  0.02407864\n",
      "  -0.00535214 -0.02924843  0.20702653  0.00353619 -0.07409535  0.03744269\n",
      "   0.00821173 -0.02178598 -0.00271835 -0.03236127  0.07412609 -0.01677206\n",
      "   0.04600693  0.0388081   0.0856309  -0.06542945 -0.04848243  0.03649468\n",
      "   0.05706674 -0.01110925 -0.07339903 -0.10032199  0.02321205  0.23159676\n",
      "   0.10944758 -0.01325622  0.07439538  0.05550992 -0.00244732 -0.05186052\n",
      "   0.00156039  0.12456317 -0.04974485  0.09630763  0.0430022   0.02821652\n",
      "   0.07187362  0.01209096 -0.01997668 -0.06210534 -0.07760523 -0.14367291\n",
      "   0.09216814  0.03028791  0.16370415  0.16106083 -0.04370765  0.01334776]]\n"
     ]
    }
   ],
   "source": [
    "print(ops_weight_base)"
   ]
  },
  {
   "cell_type": "code",
   "execution_count": 31,
   "metadata": {},
   "outputs": [],
   "source": [
    "import matplotlib.pyplot as plt"
   ]
  },
  {
   "cell_type": "code",
   "execution_count": 33,
   "metadata": {},
   "outputs": [
    {
     "data": {
      "text/plain": [
       "[<matplotlib.lines.Line2D at 0x7f88b9610fd0>,\n",
       " <matplotlib.lines.Line2D at 0x7f88b9611030>,\n",
       " <matplotlib.lines.Line2D at 0x7f88b9611060>,\n",
       " <matplotlib.lines.Line2D at 0x7f88b9611150>,\n",
       " <matplotlib.lines.Line2D at 0x7f88b9611240>,\n",
       " <matplotlib.lines.Line2D at 0x7f88b9611330>,\n",
       " <matplotlib.lines.Line2D at 0x7f88b9611420>,\n",
       " <matplotlib.lines.Line2D at 0x7f88b9611510>,\n",
       " <matplotlib.lines.Line2D at 0x7f88b9611600>,\n",
       " <matplotlib.lines.Line2D at 0x7f88b96116f0>,\n",
       " <matplotlib.lines.Line2D at 0x7f88b96117e0>,\n",
       " <matplotlib.lines.Line2D at 0x7f88b9611000>,\n",
       " <matplotlib.lines.Line2D at 0x7f88b96118d0>,\n",
       " <matplotlib.lines.Line2D at 0x7f88b9611a80>,\n",
       " <matplotlib.lines.Line2D at 0x7f88b9611b70>,\n",
       " <matplotlib.lines.Line2D at 0x7f88b9611c60>,\n",
       " <matplotlib.lines.Line2D at 0x7f88b9611d50>,\n",
       " <matplotlib.lines.Line2D at 0x7f88b9611e40>,\n",
       " <matplotlib.lines.Line2D at 0x7f88b9611f30>,\n",
       " <matplotlib.lines.Line2D at 0x7f88b9612020>,\n",
       " <matplotlib.lines.Line2D at 0x7f88b9612110>,\n",
       " <matplotlib.lines.Line2D at 0x7f88b9612200>,\n",
       " <matplotlib.lines.Line2D at 0x7f88b96122f0>,\n",
       " <matplotlib.lines.Line2D at 0x7f88b96123e0>,\n",
       " <matplotlib.lines.Line2D at 0x7f88b96124d0>,\n",
       " <matplotlib.lines.Line2D at 0x7f88b96125c0>,\n",
       " <matplotlib.lines.Line2D at 0x7f88b96126b0>,\n",
       " <matplotlib.lines.Line2D at 0x7f88b96127a0>,\n",
       " <matplotlib.lines.Line2D at 0x7f88b9612890>,\n",
       " <matplotlib.lines.Line2D at 0x7f88b9612980>,\n",
       " <matplotlib.lines.Line2D at 0x7f88b9612a70>,\n",
       " <matplotlib.lines.Line2D at 0x7f88b9612b60>,\n",
       " <matplotlib.lines.Line2D at 0x7f88b9612c50>,\n",
       " <matplotlib.lines.Line2D at 0x7f88b9612d40>,\n",
       " <matplotlib.lines.Line2D at 0x7f88b9612e30>,\n",
       " <matplotlib.lines.Line2D at 0x7f88b9612f20>,\n",
       " <matplotlib.lines.Line2D at 0x7f88b9613010>,\n",
       " <matplotlib.lines.Line2D at 0x7f88b9613100>,\n",
       " <matplotlib.lines.Line2D at 0x7f88b96131f0>,\n",
       " <matplotlib.lines.Line2D at 0x7f88b96132e0>,\n",
       " <matplotlib.lines.Line2D at 0x7f88b96133d0>,\n",
       " <matplotlib.lines.Line2D at 0x7f88b96134c0>,\n",
       " <matplotlib.lines.Line2D at 0x7f88b96135b0>,\n",
       " <matplotlib.lines.Line2D at 0x7f88b96136a0>,\n",
       " <matplotlib.lines.Line2D at 0x7f88b9613790>,\n",
       " <matplotlib.lines.Line2D at 0x7f88b9613880>,\n",
       " <matplotlib.lines.Line2D at 0x7f88b9613970>,\n",
       " <matplotlib.lines.Line2D at 0x7f88b9613a60>,\n",
       " <matplotlib.lines.Line2D at 0x7f88b9613b50>,\n",
       " <matplotlib.lines.Line2D at 0x7f88b9613c40>,\n",
       " <matplotlib.lines.Line2D at 0x7f88b9613d30>,\n",
       " <matplotlib.lines.Line2D at 0x7f88b9613e20>,\n",
       " <matplotlib.lines.Line2D at 0x7f88b9613f10>,\n",
       " <matplotlib.lines.Line2D at 0x7f88b9638040>,\n",
       " <matplotlib.lines.Line2D at 0x7f88b9638130>,\n",
       " <matplotlib.lines.Line2D at 0x7f88b9638220>,\n",
       " <matplotlib.lines.Line2D at 0x7f88b9638310>,\n",
       " <matplotlib.lines.Line2D at 0x7f88b9638400>,\n",
       " <matplotlib.lines.Line2D at 0x7f88b9610100>,\n",
       " <matplotlib.lines.Line2D at 0x7f88b9610130>,\n",
       " <matplotlib.lines.Line2D at 0x7f88b9610040>,\n",
       " <matplotlib.lines.Line2D at 0x7f88b95ea890>,\n",
       " <matplotlib.lines.Line2D at 0x7f88b9581630>,\n",
       " <matplotlib.lines.Line2D at 0x7f88b96384f0>,\n",
       " <matplotlib.lines.Line2D at 0x7f88b9638730>,\n",
       " <matplotlib.lines.Line2D at 0x7f88b9638820>,\n",
       " <matplotlib.lines.Line2D at 0x7f88b9638910>,\n",
       " <matplotlib.lines.Line2D at 0x7f88b9638a00>,\n",
       " <matplotlib.lines.Line2D at 0x7f88b9638af0>,\n",
       " <matplotlib.lines.Line2D at 0x7f88b9638be0>,\n",
       " <matplotlib.lines.Line2D at 0x7f88b9638cd0>,\n",
       " <matplotlib.lines.Line2D at 0x7f88b9638dc0>,\n",
       " <matplotlib.lines.Line2D at 0x7f88b9638eb0>,\n",
       " <matplotlib.lines.Line2D at 0x7f88b9638fa0>,\n",
       " <matplotlib.lines.Line2D at 0x7f88b9639090>,\n",
       " <matplotlib.lines.Line2D at 0x7f88b9639180>,\n",
       " <matplotlib.lines.Line2D at 0x7f88b9639270>,\n",
       " <matplotlib.lines.Line2D at 0x7f88b9639360>,\n",
       " <matplotlib.lines.Line2D at 0x7f88b9639450>,\n",
       " <matplotlib.lines.Line2D at 0x7f88b9639540>,\n",
       " <matplotlib.lines.Line2D at 0x7f88b9639630>,\n",
       " <matplotlib.lines.Line2D at 0x7f88b9639720>,\n",
       " <matplotlib.lines.Line2D at 0x7f88b9639810>,\n",
       " <matplotlib.lines.Line2D at 0x7f88b9639900>,\n",
       " <matplotlib.lines.Line2D at 0x7f88b96399f0>,\n",
       " <matplotlib.lines.Line2D at 0x7f88b9639ae0>,\n",
       " <matplotlib.lines.Line2D at 0x7f88b9639bd0>,\n",
       " <matplotlib.lines.Line2D at 0x7f88b9639cc0>,\n",
       " <matplotlib.lines.Line2D at 0x7f88b9639db0>,\n",
       " <matplotlib.lines.Line2D at 0x7f88b9639ea0>,\n",
       " <matplotlib.lines.Line2D at 0x7f88b9639f90>,\n",
       " <matplotlib.lines.Line2D at 0x7f88b963a080>,\n",
       " <matplotlib.lines.Line2D at 0x7f88b963a170>,\n",
       " <matplotlib.lines.Line2D at 0x7f88b963a260>,\n",
       " <matplotlib.lines.Line2D at 0x7f88b963a350>,\n",
       " <matplotlib.lines.Line2D at 0x7f88b963a440>,\n",
       " <matplotlib.lines.Line2D at 0x7f88b963a530>,\n",
       " <matplotlib.lines.Line2D at 0x7f88b963a620>,\n",
       " <matplotlib.lines.Line2D at 0x7f88b963a710>,\n",
       " <matplotlib.lines.Line2D at 0x7f88b963a800>,\n",
       " <matplotlib.lines.Line2D at 0x7f88b963a8f0>,\n",
       " <matplotlib.lines.Line2D at 0x7f88b963a9e0>,\n",
       " <matplotlib.lines.Line2D at 0x7f88b963aad0>,\n",
       " <matplotlib.lines.Line2D at 0x7f88b963abc0>,\n",
       " <matplotlib.lines.Line2D at 0x7f88b963acb0>,\n",
       " <matplotlib.lines.Line2D at 0x7f88b963ada0>,\n",
       " <matplotlib.lines.Line2D at 0x7f88b963ae90>,\n",
       " <matplotlib.lines.Line2D at 0x7f88b963af80>,\n",
       " <matplotlib.lines.Line2D at 0x7f88b963b070>,\n",
       " <matplotlib.lines.Line2D at 0x7f88b963b160>,\n",
       " <matplotlib.lines.Line2D at 0x7f88b963b250>,\n",
       " <matplotlib.lines.Line2D at 0x7f88b963b340>,\n",
       " <matplotlib.lines.Line2D at 0x7f88b963b430>,\n",
       " <matplotlib.lines.Line2D at 0x7f88b963b520>,\n",
       " <matplotlib.lines.Line2D at 0x7f88b963b610>,\n",
       " <matplotlib.lines.Line2D at 0x7f88b963b700>,\n",
       " <matplotlib.lines.Line2D at 0x7f88b963b7f0>,\n",
       " <matplotlib.lines.Line2D at 0x7f88b963b8e0>,\n",
       " <matplotlib.lines.Line2D at 0x7f88b963b9d0>,\n",
       " <matplotlib.lines.Line2D at 0x7f88b963bac0>,\n",
       " <matplotlib.lines.Line2D at 0x7f88b963bbb0>,\n",
       " <matplotlib.lines.Line2D at 0x7f88b963bca0>,\n",
       " <matplotlib.lines.Line2D at 0x7f88b963bd90>,\n",
       " <matplotlib.lines.Line2D at 0x7f88b963be80>,\n",
       " <matplotlib.lines.Line2D at 0x7f88b963bf70>,\n",
       " <matplotlib.lines.Line2D at 0x7f88b94300a0>,\n",
       " <matplotlib.lines.Line2D at 0x7f88b9430190>,\n",
       " <matplotlib.lines.Line2D at 0x7f88b9430280>,\n",
       " <matplotlib.lines.Line2D at 0x7f88b9430370>,\n",
       " <matplotlib.lines.Line2D at 0x7f88b9430460>,\n",
       " <matplotlib.lines.Line2D at 0x7f88b9430550>,\n",
       " <matplotlib.lines.Line2D at 0x7f88b9430640>,\n",
       " <matplotlib.lines.Line2D at 0x7f88b9430730>,\n",
       " <matplotlib.lines.Line2D at 0x7f88b9430820>,\n",
       " <matplotlib.lines.Line2D at 0x7f88b9430910>,\n",
       " <matplotlib.lines.Line2D at 0x7f88b9430a00>,\n",
       " <matplotlib.lines.Line2D at 0x7f88b9430af0>,\n",
       " <matplotlib.lines.Line2D at 0x7f88b9430be0>,\n",
       " <matplotlib.lines.Line2D at 0x7f88b9430cd0>,\n",
       " <matplotlib.lines.Line2D at 0x7f88b9430dc0>,\n",
       " <matplotlib.lines.Line2D at 0x7f88b9430eb0>,\n",
       " <matplotlib.lines.Line2D at 0x7f88b9430fa0>,\n",
       " <matplotlib.lines.Line2D at 0x7f88b9431090>,\n",
       " <matplotlib.lines.Line2D at 0x7f88b9431180>]"
      ]
     },
     "execution_count": 33,
     "metadata": {},
     "output_type": "execute_result"
    },
    {
     "data": {
      "image/png": "[encoded data removed]",
      "text/plain": [
       "<Figure size 640x480 with 1 Axes>"
      ]
     },
     "metadata": {},
     "output_type": "display_data"
    }
   ],
   "source": [
    "%matplotlib inline\n",
    "plt.plot(ops_weight_base)"
   ]
  },
  {
   "cell_type": "code",
   "execution_count": 38,
   "metadata": {},
   "outputs": [
    {
     "data": {
      "image/png": "[encoded data removed]",
      "text/plain": [
       "<Figure size 640x480 with 1 Axes>"
      ]
     },
     "metadata": {},
     "output_type": "display_data"
    }
   ],
   "source": [
    "mu, sigma = 0, 0.1\n",
    "s = np.random.normal(mu, sigma, 1000)\n",
    "\n",
    "np.random.normal()\n",
    "count, bins, ignored = plt.hist(s, 30, density=True)\n",
    "plt.plot(bins, 1/(sigma * np.sqrt(2 * np.pi)) * np.exp( - (bins - mu)**2 / (2 * sigma**2) ), linewidth=2, color='r')\n",
    "plt.show()"
   ]
  },
  {
   "cell_type": "code",
   "execution_count": 44,
   "metadata": {},
   "outputs": [
    {
     "name": "stdout",
     "output_type": "stream",
     "text": [
      "-0.0011296010031605404\n"
     ]
    },
    {
     "data": {
      "image/png": "[encoded data removed]",
      "text/plain": [
       "<Figure size 640x480 with 1 Axes>"
      ]
     },
     "metadata": {},
     "output_type": "display_data"
    }
   ],
   "source": [
    "plt.plot(s)\n",
    "print(np.mean(s))\n",
    "plt.show()"
   ]
  },
  {
   "cell_type": "code",
   "execution_count": 6,
   "metadata": {},
   "outputs": [
    {
     "name": "stdout",
     "output_type": "stream",
     "text": [
      "[8.64664717e-01 8.56933706e-01 8.48879350e-01 8.40496400e-01\n",
      " 8.31780104e-01 8.22726253e-01 8.13331224e-01 8.03592019e-01\n",
      " 7.93506316e-01 7.83072501e-01 7.72289720e-01 7.61157911e-01\n",
      " 7.49677853e-01 7.37851194e-01 7.25680497e-01 7.13169269e-01\n",
      " 7.00321996e-01 6.87144173e-01 6.73642332e-01 6.59824064e-01\n",
      " 6.45698046e-01 6.31274052e-01 6.16562975e-01 6.01576830e-01\n",
      " 5.86328769e-01 5.70833076e-01 5.55105167e-01 5.39161586e-01\n",
      " 5.23019991e-01 5.06699137e-01 4.90218858e-01 4.73600038e-01\n",
      " 4.56864579e-01 4.40035369e-01 4.23136236e-01 4.06191903e-01\n",
      " 3.89227936e-01 3.72270691e-01 3.55347247e-01 3.38485344e-01\n",
      " 3.21713315e-01 3.05060006e-01 2.88554701e-01 2.72227042e-01\n",
      " 2.56106938e-01 2.40224482e-01 2.24609858e-01 2.09293247e-01\n",
      " 1.94304730e-01 1.79674195e-01 1.65431237e-01 1.51605058e-01\n",
      " 1.38224369e-01 1.25317292e-01 1.12911263e-01 1.01032931e-01\n",
      " 8.97080677e-02 7.89614721e-02 6.88168807e-02 5.92968802e-02\n",
      " 5.04228240e-02 4.22147523e-02 3.46913170e-02 2.78697105e-02\n",
      " 2.17656012e-02 1.63930725e-02 1.17645694e-02 7.89085027e-03\n",
      " 4.78094511e-03 2.44212050e-03 8.79851346e-04 9.77995109e-05\n",
      " 9.77995109e-05 8.79851346e-04 2.44212050e-03 4.78094511e-03\n",
      " 7.89085027e-03 1.17645694e-02 1.63930725e-02 2.17656012e-02\n",
      " 2.78697105e-02 3.46913170e-02 4.22147523e-02 5.04228240e-02\n",
      " 5.92968802e-02 6.88168807e-02 7.89614721e-02 8.97080677e-02\n",
      " 1.01032931e-01 1.12911263e-01 1.25317292e-01 1.38224369e-01\n",
      " 1.51605058e-01 1.65431237e-01 1.79674195e-01 1.94304730e-01\n",
      " 2.09293247e-01 2.24609858e-01 2.40224482e-01 2.56106938e-01\n",
      " 2.72227042e-01 2.88554701e-01 3.05060006e-01 3.21713315e-01\n",
      " 3.38485344e-01 3.55347247e-01 3.72270691e-01 3.89227936e-01\n",
      " 4.06191903e-01 4.23136236e-01 4.40035369e-01 4.56864579e-01\n",
      " 4.73600038e-01 4.90218858e-01 5.06699137e-01 5.23019991e-01\n",
      " 5.39161586e-01 5.55105167e-01 5.70833076e-01 5.86328769e-01\n",
      " 6.01576830e-01 6.16562975e-01 6.31274052e-01 6.45698046e-01\n",
      " 6.59824064e-01 6.73642332e-01 6.87144173e-01 7.00321996e-01\n",
      " 7.13169269e-01 7.25680497e-01 7.37851194e-01 7.49677853e-01\n",
      " 7.61157911e-01 7.72289720e-01 7.83072501e-01 7.93506316e-01\n",
      " 8.03592019e-01 8.13331224e-01 8.22726253e-01 8.31780104e-01\n",
      " 8.40496400e-01 8.48879350e-01 8.56933706e-01 8.64664717e-01]\n"
     ]
    }
   ],
   "source": [
    "def gaussian(x, mu=0., sig=1.):\n",
    "    return np.exp(-np.power(x - mu, 2.) / (2 * np.power(sig, 2.)))\n",
    "\n",
    "constraint_shape = np.ones(144) - gaussian(np.linspace(-2, 2, 144)) - 0.0\n",
    "print(constraint_shape)"
   ]
  },
  {
   "cell_type": "code",
   "execution_count": 7,
   "metadata": {},
   "outputs": [
    {
     "name": "stdout",
     "output_type": "stream",
     "text": [
      "[8.64664717e-01 8.56933706e-01 8.48879350e-01 8.40496400e-01\n",
      " 8.31780104e-01 8.22726253e-01 8.13331224e-01 8.03592019e-01\n",
      " 7.93506316e-01 7.83072501e-01 7.72289720e-01 7.61157911e-01\n",
      " 7.49677853e-01 7.37851194e-01 7.25680497e-01 7.13169269e-01\n",
      " 7.00321996e-01 6.87144173e-01 6.73642332e-01 6.59824064e-01\n",
      " 6.45698046e-01 6.31274052e-01 6.16562975e-01 6.01576830e-01\n",
      " 5.86328769e-01 5.70833076e-01 5.55105167e-01 5.39161586e-01\n",
      " 5.23019991e-01 5.06699137e-01 4.90218858e-01 4.73600038e-01\n",
      " 4.56864579e-01 4.40035369e-01 4.23136236e-01 4.06191903e-01\n",
      " 3.89227936e-01 3.72270691e-01 3.55347247e-01 3.38485344e-01\n",
      " 3.21713315e-01 3.05060006e-01 2.88554701e-01 2.72227042e-01\n",
      " 2.56106938e-01 2.40224482e-01 2.24609858e-01 2.09293247e-01\n",
      " 1.94304730e-01 1.79674195e-01 1.65431237e-01 1.51605058e-01\n",
      " 1.38224369e-01 1.25317292e-01 1.12911263e-01 1.01032931e-01\n",
      " 8.97080677e-02 7.89614721e-02 6.88168807e-02 5.92968802e-02\n",
      " 5.04228240e-02 4.22147523e-02 3.46913170e-02 2.78697105e-02\n",
      " 2.17656012e-02 1.63930725e-02 1.17645694e-02 7.89085027e-03\n",
      " 4.78094511e-03 2.44212050e-03 8.79851346e-04 9.77995109e-05\n",
      " 9.77995109e-05 8.79851346e-04 2.44212050e-03 4.78094511e-03\n",
      " 7.89085027e-03 1.17645694e-02 1.63930725e-02 2.17656012e-02\n",
      " 2.78697105e-02 3.46913170e-02 4.22147523e-02 5.04228240e-02\n",
      " 5.92968802e-02 6.88168807e-02 7.89614721e-02 8.97080677e-02\n",
      " 1.01032931e-01 1.12911263e-01 1.25317292e-01 1.38224369e-01\n",
      " 1.51605058e-01 1.65431237e-01 1.79674195e-01 1.94304730e-01\n",
      " 2.09293247e-01 2.24609858e-01 2.40224482e-01 2.56106938e-01\n",
      " 2.72227042e-01 2.88554701e-01 3.05060006e-01 3.21713315e-01\n",
      " 3.38485344e-01 3.55347247e-01 3.72270691e-01 3.89227936e-01\n",
      " 4.06191903e-01 4.23136236e-01 4.40035369e-01 4.56864579e-01\n",
      " 4.73600038e-01 4.90218858e-01 5.06699137e-01 5.23019991e-01\n",
      " 5.39161586e-01 5.55105167e-01 5.70833076e-01 5.86328769e-01\n",
      " 6.01576830e-01 6.16562975e-01 6.31274052e-01 6.45698046e-01\n",
      " 6.59824064e-01 6.73642332e-01 6.87144173e-01 7.00321996e-01\n",
      " 7.13169269e-01 7.25680497e-01 7.37851194e-01 7.49677853e-01\n",
      " 7.61157911e-01 7.72289720e-01 7.83072501e-01 7.93506316e-01\n",
      " 8.03592019e-01 8.13331224e-01 8.22726253e-01 8.31780104e-01\n",
      " 8.40496400e-01 8.48879350e-01 8.56933706e-01 8.64664717e-01]\n"
     ]
    }
   ],
   "source": [
    "constraint_shape = constraint_shape * (constraint_shape > 0)\n",
    "print(constraint_shape)"
   ]
  },
  {
   "cell_type": "code",
   "execution_count": 8,
   "metadata": {},
   "outputs": [
    {
     "name": "stdout",
     "output_type": "stream",
     "text": [
      "[0.87466472 0.86693371 0.85887935 0.8504964  0.8417801  0.83272625\n",
      " 0.82333122 0.81359202 0.80350632 0.7930725  0.78228972 0.77115791\n",
      " 0.75967785 0.74785119 0.7356805  0.72316927 0.710322   0.69714417\n",
      " 0.68364233 0.66982406 0.65569805 0.64127405 0.62656297 0.61157683\n",
      " 0.59632877 0.58083308 0.56510517 0.54916159 0.53301999 0.51669914\n",
      " 0.50021886 0.48360004 0.46686458 0.45003537 0.43313624 0.4161919\n",
      " 0.39922794 0.38227069 0.36534725 0.34848534 0.33171332 0.31506001\n",
      " 0.2985547  0.28222704 0.26610694 0.25022448 0.23460986 0.21929325\n",
      " 0.20430473 0.1896742  0.17543124 0.16160506 0.14822437 0.13531729\n",
      " 0.12291126 0.11103293 0.09970807 0.08896147 0.07881688 0.06929688\n",
      " 0.06042282 0.05221475 0.04469132 0.03786971 0.0317656  0.02639307\n",
      " 0.02176457 0.01789085 0.01478095 0.01244212 0.01087985 0.0100978\n",
      " 0.0100978  0.01087985 0.01244212 0.01478095 0.01789085 0.02176457\n",
      " 0.02639307 0.0317656  0.03786971 0.04469132 0.05221475 0.06042282\n",
      " 0.06929688 0.07881688 0.08896147 0.09970807 0.11103293 0.12291126\n",
      " 0.13531729 0.14822437 0.16160506 0.17543124 0.1896742  0.20430473\n",
      " 0.21929325 0.23460986 0.25022448 0.26610694 0.28222704 0.2985547\n",
      " 0.31506001 0.33171332 0.34848534 0.36534725 0.38227069 0.39922794\n",
      " 0.4161919  0.43313624 0.45003537 0.46686458 0.48360004 0.50021886\n",
      " 0.51669914 0.53301999 0.54916159 0.56510517 0.58083308 0.59632877\n",
      " 0.61157683 0.62656297 0.64127405 0.65569805 0.66982406 0.68364233\n",
      " 0.69714417 0.710322   0.72316927 0.7356805  0.74785119 0.75967785\n",
      " 0.77115791 0.78228972 0.7930725  0.80350632 0.81359202 0.82333122\n",
      " 0.83272625 0.8417801  0.8504964  0.85887935 0.86693371 0.87466472]\n"
     ]
    }
   ],
   "source": [
    "constraint_shape = constraint_shape + 0.01 * np.ones(144)\n",
    "print(constraint_shape)"
   ]
  },
  {
   "cell_type": "code",
   "execution_count": 36,
   "metadata": {},
   "outputs": [
    {
     "name": "stdout",
     "output_type": "stream",
     "text": [
      "[<tf.Variable 'Variable:0' shape=(144,) dtype=float32, numpy=\n",
      "array([1., 1., 1., 1., 1., 1., 1., 1., 1., 1., 1., 1., 1., 1., 1., 1., 1.,\n",
      "       1., 1., 1., 1., 1., 1., 1., 1., 1., 1., 1., 1., 1., 1., 1., 1., 1.,\n",
      "       1., 1., 1., 1., 1., 1., 1., 1., 1., 1., 1., 1., 1., 1., 1., 1., 1.,\n",
      "       1., 1., 1., 1., 1., 1., 1., 1., 1., 1., 1., 1., 1., 1., 1., 1., 1.,\n",
      "       1., 1., 1., 1., 1., 1., 1., 1., 1., 1., 1., 1., 1., 1., 1., 1., 1.,\n",
      "       1., 1., 1., 1., 1., 1., 1., 1., 1., 1., 1., 1., 1., 1., 1., 1., 1.,\n",
      "       1., 1., 1., 1., 1., 1., 1., 1., 1., 1., 1., 1., 1., 1., 1., 1., 1.,\n",
      "       1., 1., 1., 1., 1., 1., 1., 1., 1., 1., 1., 1., 1., 1., 1., 1., 1.,\n",
      "       1., 1., 1., 1., 1., 1., 1., 1.], dtype=float32)>, <tf.Tensor: shape=(144,), dtype=float32, numpy=\n",
      "array([-5.46665378e-02, -3.45842652e-02, -3.64021063e-02, -1.06533185e-01,\n",
      "        3.02615836e-02,  3.28485183e-02, -3.68888327e-03,  5.03701679e-02,\n",
      "       -4.70415987e-02, -3.34194042e-02, -3.28342733e-03, -2.40747090e-02,\n",
      "        5.60176931e-02,  3.77136655e-02, -5.80333825e-03, -1.06931766e-02,\n",
      "       -1.68723036e-02,  6.81237271e-03,  3.46019156e-02, -8.50665290e-03,\n",
      "        7.28960484e-02, -2.04420332e-02, -4.24640067e-02,  6.38374984e-02,\n",
      "       -2.53025480e-02, -5.93841961e-03,  1.29054971e-02, -8.27417448e-02,\n",
      "       -6.82232380e-02,  4.31971587e-02, -3.42591740e-02, -4.56266850e-02,\n",
      "        8.32618624e-02, -1.00499019e-02,  5.62232861e-04, -3.11502051e-02,\n",
      "        2.33161692e-02, -4.98541854e-02, -1.62798986e-02,  1.38778733e-02,\n",
      "       -2.01883838e-02, -1.44276884e-04, -5.55685759e-02, -1.47671402e-02,\n",
      "        6.20183069e-03,  2.40542348e-02, -3.02550872e-03, -5.34589887e-02,\n",
      "       -1.71047747e-02, -2.37955265e-02,  1.02805616e-02, -3.98095185e-03,\n",
      "       -4.44231881e-03, -4.26707603e-02, -2.93682273e-02,  1.35369394e-02,\n",
      "       -3.21565359e-03, -2.53257882e-02,  3.86203974e-02, -2.33550668e-02,\n",
      "        6.82649612e-02,  2.08343118e-02, -6.37883469e-02, -1.08194547e-02,\n",
      "       -2.95906942e-02,  1.06269076e-01, -2.88553610e-02,  3.08443587e-02,\n",
      "        1.35940909e-02, -3.22918221e-02, -6.71255076e-03,  4.29909816e-03,\n",
      "       -5.95615171e-02, -1.66766532e-02, -3.70307919e-03, -5.57977110e-02,\n",
      "        6.51443144e-03, -1.19332746e-02,  3.56383100e-02, -1.60445936e-03,\n",
      "       -6.11060075e-02, -7.02479184e-02, -3.59897241e-02, -4.59957011e-02,\n",
      "        3.35417837e-02,  1.08394418e-02,  5.28316246e-03, -3.16211767e-02,\n",
      "       -1.23513611e-02,  1.17772529e-02, -5.07431254e-02,  8.14362988e-02,\n",
      "       -3.11424397e-02, -8.46529528e-02,  2.60300352e-03,  8.38695001e-03,\n",
      "        3.61973122e-02,  2.77926251e-02, -2.48137545e-02, -4.37284149e-02,\n",
      "        9.69260465e-03,  2.50197519e-02, -2.04212945e-02,  4.14691605e-02,\n",
      "        8.17054603e-03,  2.43900120e-02, -7.32480809e-02,  3.22194472e-02,\n",
      "       -5.48107326e-02, -3.34145911e-02, -5.11655621e-02, -4.92455810e-02,\n",
      "       -1.05487006e-02, -1.02341333e-02,  2.14648452e-02, -4.00313884e-02,\n",
      "       -5.36810979e-03,  3.31626348e-02, -9.34176892e-03, -3.25265415e-02,\n",
      "        2.21640081e-03, -6.07629940e-02,  7.77479485e-02, -9.19886604e-02,\n",
      "       -2.52694488e-02,  2.84773167e-02,  5.35553284e-02, -3.40720965e-03,\n",
      "        1.27029926e-01, -9.99080949e-03,  2.93208994e-02, -3.52031947e-03,\n",
      "        4.32828274e-05,  4.39320970e-03,  5.13304316e-04,  2.55968105e-02,\n",
      "        2.51731649e-03, -7.23701641e-02, -4.58745696e-02,  5.14233187e-02,\n",
      "        8.90651532e-03,  7.88275823e-02,  4.20679376e-02, -8.40308424e-03],\n",
      "      dtype=float32)>]\n"
     ]
    }
   ],
   "source": [
    "import tensorflow as tf\n",
    "\n",
    "H0_weight = tf.Variable(tf.ones([144]), trainable=False)\n",
    "weights_unpacked = [H0_weight]\n",
    "ops_weight_base = tf.Variable(tf.constant(ops_weight_base, dtype=tf.float32), dtype=tf.float32, name=\"weight_base\")\n",
    "ops_weight = tf.sin(ops_weight_base, name=\"weights\")\n",
    "for ii in range(ops_len):\n",
    "    weights_unpacked.append(ops_max_amp[ii] * ops_weight[ii,:])\n",
    "\n",
    "print(weights_unpacked)"
   ]
  },
  {
   "cell_type": "code",
   "execution_count": null,
   "metadata": {},
   "outputs": [],
   "source": []
  }
 ],
 "metadata": {
  "kernelspec": {
   "display_name": "quantum",
   "language": "python",
   "name": "python3"
  },
  "language_info": {
   "codemirror_mode": {
    "name": "ipython",
    "version": 3
   },
   "file_extension": ".py",
   "mimetype": "text/x-python",
   "name": "python",
   "nbconvert_exporter": "python",
   "pygments_lexer": "ipython3",
   "version": "3.10.11"
  },
  "orig_nbformat": 4
 },
 "nbformat": 4,
 "nbformat_minor": 2
}
