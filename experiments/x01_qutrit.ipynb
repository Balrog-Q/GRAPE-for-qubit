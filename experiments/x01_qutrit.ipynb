{
 "cells": [
  {
   "cell_type": "code",
   "execution_count": 1,
   "metadata": {},
   "outputs": [
    {
     "name": "stdout",
     "output_type": "stream",
     "text": [
      "['/Users/khatran/miniconda3/envs/quantum/lib/python310.zip', '/Users/khatran/miniconda3/envs/quantum/lib/python3.10', '/Users/khatran/miniconda3/envs/quantum/lib/python3.10/lib-dynload', '/Users/khatran/miniconda3/envs/quantum/lib/python3.10/site-packages', '/Users/khatran/Documents/Quantum Computing/GRAPE-for-qubit/experiments', '/Users/khatran/Documents/Quantum Computing/GRAPE-for-qubit/output', '/Users/khatran/Documents/Quantum Computing/GRAPE-for-qubit/quantum_optimal_control', '/Users/khatran/Documents/Quantum Computing/GRAPE-for-qubit/.git', '/Users/khatran/Documents/Quantum Computing/GRAPE-for-qubit/experiments/x01_gate_lagos', '/Users/khatran/Documents/Quantum Computing/GRAPE-for-qubit/output/x01_π', '/Users/khatran/Documents/Quantum Computing/GRAPE-for-qubit/output/x01_90', '/Users/khatran/Documents/Quantum Computing/GRAPE-for-qubit/output/x01_qutrit', '/Users/khatran/Documents/Quantum Computing/GRAPE-for-qubit/quantum_optimal_control/main_grape', '/Users/khatran/Documents/Quantum Computing/GRAPE-for-qubit/quantum_optimal_control/core', '/Users/khatran/Documents/Quantum Computing/GRAPE-for-qubit/quantum_optimal_control/helper_functions', '/Users/khatran/Documents/Quantum Computing/GRAPE-for-qubit/quantum_optimal_control/__pycache__', '/Users/khatran/Documents/Quantum Computing/GRAPE-for-qubit/quantum_optimal_control/main_grape/__pycache__', '/Users/khatran/Documents/Quantum Computing/GRAPE-for-qubit/quantum_optimal_control/core/__pycache__', '/Users/khatran/Documents/Quantum Computing/GRAPE-for-qubit/quantum_optimal_control/helper_functions/__pycache__', '/Users/khatran/Documents/Quantum Computing/GRAPE-for-qubit/.git/objects', '/Users/khatran/Documents/Quantum Computing/GRAPE-for-qubit/.git/info', '/Users/khatran/Documents/Quantum Computing/GRAPE-for-qubit/.git/logs', '/Users/khatran/Documents/Quantum Computing/GRAPE-for-qubit/.git/hooks', '/Users/khatran/Documents/Quantum Computing/GRAPE-for-qubit/.git/refs', '/Users/khatran/Documents/Quantum Computing/GRAPE-for-qubit/.git/branches', '/Users/khatran/Documents/Quantum Computing/GRAPE-for-qubit/.git/objects/95', '/Users/khatran/Documents/Quantum Computing/GRAPE-for-qubit/.git/objects/66', '/Users/khatran/Documents/Quantum Computing/GRAPE-for-qubit/.git/objects/3e', '/Users/khatran/Documents/Quantum Computing/GRAPE-for-qubit/.git/objects/50', '/Users/khatran/Documents/Quantum Computing/GRAPE-for-qubit/.git/objects/68', '/Users/khatran/Documents/Quantum Computing/GRAPE-for-qubit/.git/objects/03', '/Users/khatran/Documents/Quantum Computing/GRAPE-for-qubit/.git/objects/9e', '/Users/khatran/Documents/Quantum Computing/GRAPE-for-qubit/.git/objects/3c', '/Users/khatran/Documents/Quantum Computing/GRAPE-for-qubit/.git/objects/3d', '/Users/khatran/Documents/Quantum Computing/GRAPE-for-qubit/.git/objects/58', '/Users/khatran/Documents/Quantum Computing/GRAPE-for-qubit/.git/objects/67', '/Users/khatran/Documents/Quantum Computing/GRAPE-for-qubit/.git/objects/93', '/Users/khatran/Documents/Quantum Computing/GRAPE-for-qubit/.git/objects/94', '/Users/khatran/Documents/Quantum Computing/GRAPE-for-qubit/.git/objects/34', '/Users/khatran/Documents/Quantum Computing/GRAPE-for-qubit/.git/objects/9d', '/Users/khatran/Documents/Quantum Computing/GRAPE-for-qubit/.git/objects/a4', '/Users/khatran/Documents/Quantum Computing/GRAPE-for-qubit/.git/objects/a3', '/Users/khatran/Documents/Quantum Computing/GRAPE-for-qubit/.git/objects/b2', '/Users/khatran/Documents/Quantum Computing/GRAPE-for-qubit/.git/objects/bb', '/Users/khatran/Documents/Quantum Computing/GRAPE-for-qubit/.git/objects/d7', '/Users/khatran/Documents/Quantum Computing/GRAPE-for-qubit/.git/objects/d0', '/Users/khatran/Documents/Quantum Computing/GRAPE-for-qubit/.git/objects/be', '/Users/khatran/Documents/Quantum Computing/GRAPE-for-qubit/.git/objects/b3', '/Users/khatran/Documents/Quantum Computing/GRAPE-for-qubit/.git/objects/df', '/Users/khatran/Documents/Quantum Computing/GRAPE-for-qubit/.git/objects/a2', '/Users/khatran/Documents/Quantum Computing/GRAPE-for-qubit/.git/objects/d1', '/Users/khatran/Documents/Quantum Computing/GRAPE-for-qubit/.git/objects/bc', '/Users/khatran/Documents/Quantum Computing/GRAPE-for-qubit/.git/objects/d8', '/Users/khatran/Documents/Quantum Computing/GRAPE-for-qubit/.git/objects/f4', '/Users/khatran/Documents/Quantum Computing/GRAPE-for-qubit/.git/objects/eb', '/Users/khatran/Documents/Quantum Computing/GRAPE-for-qubit/.git/objects/c7', '/Users/khatran/Documents/Quantum Computing/GRAPE-for-qubit/.git/objects/c0', '/Users/khatran/Documents/Quantum Computing/GRAPE-for-qubit/.git/objects/ee', '/Users/khatran/Documents/Quantum Computing/GRAPE-for-qubit/.git/objects/fc', '/Users/khatran/Documents/Quantum Computing/GRAPE-for-qubit/.git/objects/f5', '/Users/khatran/Documents/Quantum Computing/GRAPE-for-qubit/.git/objects/e3', '/Users/khatran/Documents/Quantum Computing/GRAPE-for-qubit/.git/objects/ca', '/Users/khatran/Documents/Quantum Computing/GRAPE-for-qubit/.git/objects/e4', '/Users/khatran/Documents/Quantum Computing/GRAPE-for-qubit/.git/objects/fe', '/Users/khatran/Documents/Quantum Computing/GRAPE-for-qubit/.git/objects/c8', '/Users/khatran/Documents/Quantum Computing/GRAPE-for-qubit/.git/objects/fb', '/Users/khatran/Documents/Quantum Computing/GRAPE-for-qubit/.git/objects/ed', '/Users/khatran/Documents/Quantum Computing/GRAPE-for-qubit/.git/objects/c6', '/Users/khatran/Documents/Quantum Computing/GRAPE-for-qubit/.git/objects/ec', '/Users/khatran/Documents/Quantum Computing/GRAPE-for-qubit/.git/objects/4e', '/Users/khatran/Documents/Quantum Computing/GRAPE-for-qubit/.git/objects/20', '/Users/khatran/Documents/Quantum Computing/GRAPE-for-qubit/.git/objects/pack', '/Users/khatran/Documents/Quantum Computing/GRAPE-for-qubit/.git/objects/7c', '/Users/khatran/Documents/Quantum Computing/GRAPE-for-qubit/.git/objects/16', '/Users/khatran/Documents/Quantum Computing/GRAPE-for-qubit/.git/objects/42', '/Users/khatran/Documents/Quantum Computing/GRAPE-for-qubit/.git/objects/1f', '/Users/khatran/Documents/Quantum Computing/GRAPE-for-qubit/.git/objects/73', '/Users/khatran/Documents/Quantum Computing/GRAPE-for-qubit/.git/objects/87', '/Users/khatran/Documents/Quantum Computing/GRAPE-for-qubit/.git/objects/80', '/Users/khatran/Documents/Quantum Computing/GRAPE-for-qubit/.git/objects/74', '/Users/khatran/Documents/Quantum Computing/GRAPE-for-qubit/.git/objects/1a', '/Users/khatran/Documents/Quantum Computing/GRAPE-for-qubit/.git/objects/28', '/Users/khatran/Documents/Quantum Computing/GRAPE-for-qubit/.git/objects/17', '/Users/khatran/Documents/Quantum Computing/GRAPE-for-qubit/.git/objects/8a', '/Users/khatran/Documents/Quantum Computing/GRAPE-for-qubit/.git/objects/4c', '/Users/khatran/Documents/Quantum Computing/GRAPE-for-qubit/.git/objects/26', '/Users/khatran/Documents/Quantum Computing/GRAPE-for-qubit/.git/objects/21', '/Users/khatran/Documents/Quantum Computing/GRAPE-for-qubit/.git/objects/4d', '/Users/khatran/Documents/Quantum Computing/GRAPE-for-qubit/.git/objects/81', '/Users/khatran/Documents/Quantum Computing/GRAPE-for-qubit/.git/objects/86', '/Users/khatran/Documents/Quantum Computing/GRAPE-for-qubit/.git/objects/72', '/Users/khatran/Documents/Quantum Computing/GRAPE-for-qubit/.git/objects/2f', '/Users/khatran/Documents/Quantum Computing/GRAPE-for-qubit/.git/objects/43', '/Users/khatran/Documents/Quantum Computing/GRAPE-for-qubit/.git/objects/6b', '/Users/khatran/Documents/Quantum Computing/GRAPE-for-qubit/.git/objects/07', '/Users/khatran/Documents/Quantum Computing/GRAPE-for-qubit/.git/objects/38', '/Users/khatran/Documents/Quantum Computing/GRAPE-for-qubit/.git/objects/6e', '/Users/khatran/Documents/Quantum Computing/GRAPE-for-qubit/.git/objects/5c', '/Users/khatran/Documents/Quantum Computing/GRAPE-for-qubit/.git/objects/09', '/Users/khatran/Documents/Quantum Computing/GRAPE-for-qubit/.git/objects/5d', '/Users/khatran/Documents/Quantum Computing/GRAPE-for-qubit/.git/objects/31', '/Users/khatran/Documents/Quantum Computing/GRAPE-for-qubit/.git/objects/info', '/Users/khatran/Documents/Quantum Computing/GRAPE-for-qubit/.git/objects/54', '/Users/khatran/Documents/Quantum Computing/GRAPE-for-qubit/.git/objects/98', '/Users/khatran/Documents/Quantum Computing/GRAPE-for-qubit/.git/objects/53', '/Users/khatran/Documents/Quantum Computing/GRAPE-for-qubit/.git/objects/30', '/Users/khatran/Documents/Quantum Computing/GRAPE-for-qubit/.git/objects/37', '/Users/khatran/Documents/Quantum Computing/GRAPE-for-qubit/.git/objects/08', '/Users/khatran/Documents/Quantum Computing/GRAPE-for-qubit/.git/objects/6d', '/Users/khatran/Documents/Quantum Computing/GRAPE-for-qubit/.git/objects/39', '/Users/khatran/Documents/Quantum Computing/GRAPE-for-qubit/.git/objects/52', '/Users/khatran/Documents/Quantum Computing/GRAPE-for-qubit/.git/objects/63', '/Users/khatran/Documents/Quantum Computing/GRAPE-for-qubit/.git/objects/0f', '/Users/khatran/Documents/Quantum Computing/GRAPE-for-qubit/.git/objects/0a', '/Users/khatran/Documents/Quantum Computing/GRAPE-for-qubit/.git/objects/d3', '/Users/khatran/Documents/Quantum Computing/GRAPE-for-qubit/.git/objects/ba', '/Users/khatran/Documents/Quantum Computing/GRAPE-for-qubit/.git/objects/a7', '/Users/khatran/Documents/Quantum Computing/GRAPE-for-qubit/.git/objects/b8', '/Users/khatran/Documents/Quantum Computing/GRAPE-for-qubit/.git/objects/b1', '/Users/khatran/Documents/Quantum Computing/GRAPE-for-qubit/.git/objects/b6', '/Users/khatran/Documents/Quantum Computing/GRAPE-for-qubit/.git/objects/d2', '/Users/khatran/Documents/Quantum Computing/GRAPE-for-qubit/.git/objects/af', '/Users/khatran/Documents/Quantum Computing/GRAPE-for-qubit/.git/objects/db', '/Users/khatran/Documents/Quantum Computing/GRAPE-for-qubit/.git/objects/b0', '/Users/khatran/Documents/Quantum Computing/GRAPE-for-qubit/.git/objects/a6', '/Users/khatran/Documents/Quantum Computing/GRAPE-for-qubit/.git/objects/b9', '/Users/khatran/Documents/Quantum Computing/GRAPE-for-qubit/.git/objects/ef', '/Users/khatran/Documents/Quantum Computing/GRAPE-for-qubit/.git/objects/c4', '/Users/khatran/Documents/Quantum Computing/GRAPE-for-qubit/.git/objects/e1', '/Users/khatran/Documents/Quantum Computing/GRAPE-for-qubit/.git/objects/cd', '/Users/khatran/Documents/Quantum Computing/GRAPE-for-qubit/.git/objects/f9', '/Users/khatran/Documents/Quantum Computing/GRAPE-for-qubit/.git/objects/f0', '/Users/khatran/Documents/Quantum Computing/GRAPE-for-qubit/.git/objects/f7', '/Users/khatran/Documents/Quantum Computing/GRAPE-for-qubit/.git/objects/e8', '/Users/khatran/Documents/Quantum Computing/GRAPE-for-qubit/.git/objects/e7', '/Users/khatran/Documents/Quantum Computing/GRAPE-for-qubit/.git/objects/f8', '/Users/khatran/Documents/Quantum Computing/GRAPE-for-qubit/.git/objects/e0', '/Users/khatran/Documents/Quantum Computing/GRAPE-for-qubit/.git/objects/79', '/Users/khatran/Documents/Quantum Computing/GRAPE-for-qubit/.git/objects/41', '/Users/khatran/Documents/Quantum Computing/GRAPE-for-qubit/.git/objects/1b', '/Users/khatran/Documents/Quantum Computing/GRAPE-for-qubit/.git/objects/77', '/Users/khatran/Documents/Quantum Computing/GRAPE-for-qubit/.git/objects/1e', '/Users/khatran/Documents/Quantum Computing/GRAPE-for-qubit/.git/objects/84', '/Users/khatran/Documents/Quantum Computing/GRAPE-for-qubit/.git/objects/4a', '/Users/khatran/Documents/Quantum Computing/GRAPE-for-qubit/.git/objects/23', '/Users/khatran/Documents/Quantum Computing/GRAPE-for-qubit/.git/objects/4f', '/Users/khatran/Documents/Quantum Computing/GRAPE-for-qubit/.git/objects/15', '/Users/khatran/Documents/Quantum Computing/GRAPE-for-qubit/.git/objects/85', '/Users/khatran/Documents/Quantum Computing/GRAPE-for-qubit/.git/objects/71', '/Users/khatran/Documents/Quantum Computing/GRAPE-for-qubit/.git/objects/1c', '/Users/khatran/Documents/Quantum Computing/GRAPE-for-qubit/.git/objects/40', '/Users/khatran/Documents/Quantum Computing/GRAPE-for-qubit/.git/objects/2b', '/Users/khatran/Documents/Quantum Computing/GRAPE-for-qubit/.git/objects/8b', '/Users/khatran/Documents/Quantum Computing/GRAPE-for-qubit/.git/objects/13', '/Users/khatran/Documents/Quantum Computing/GRAPE-for-qubit/.git/objects/14', '/Users/khatran/Documents/Quantum Computing/GRAPE-for-qubit/.git/objects/22', '/Users/khatran/Documents/Quantum Computing/GRAPE-for-qubit/.git/objects/25', '/Users/khatran/Documents/Quantum Computing/GRAPE-for-qubit/.git/logs/refs', '/Users/khatran/Documents/Quantum Computing/GRAPE-for-qubit/.git/logs/refs/heads', '/Users/khatran/Documents/Quantum Computing/GRAPE-for-qubit/.git/logs/refs/remotes', '/Users/khatran/Documents/Quantum Computing/GRAPE-for-qubit/.git/logs/refs/remotes/origin', '/Users/khatran/Documents/Quantum Computing/GRAPE-for-qubit/.git/refs/heads', '/Users/khatran/Documents/Quantum Computing/GRAPE-for-qubit/.git/refs/tags', '/Users/khatran/Documents/Quantum Computing/GRAPE-for-qubit/.git/refs/remotes', '/Users/khatran/Documents/Quantum Computing/GRAPE-for-qubit/.git/refs/remotes/origin', '/Users/khatran/Documents/Quantum Computing/GRAPE-for-qubit']\n"
     ]
    }
   ],
   "source": [
    "import os\n",
    "import sys\n",
    "import warnings\n",
    "warnings.filterwarnings('ignore')\n",
    "\n",
    "index = sys.path.index('')\n",
    "sys.path.pop(index)\n",
    "path = sys.path[0]\n",
    "parent_dir = os.path.abspath(os.path.join(path, os.pardir))\n",
    "\n",
    "for root, dirs, files in os.walk(parent_dir):\n",
    "    for dir in dirs:\n",
    "        sys.path.append(os.path.join(root, dir))\n",
    "\n",
    "sys.path.append(parent_dir)\n",
    "sys.path.pop(0)\n",
    "print(sys.path)"
   ]
  },
  {
   "cell_type": "code",
   "execution_count": 2,
   "metadata": {},
   "outputs": [
    {
     "ename": "",
     "evalue": "",
     "output_type": "error",
     "traceback": [
      "\u001b[1;31mThe Kernel crashed while executing code in the the current cell or a previous cell. Please review the code in the cell(s) to identify a possible cause of the failure. Click <a href='https://aka.ms/vscodeJupyterKernelCrash'>here</a> for more info. View Jupyter <a href='command:jupyter.viewOutput'>log</a> for further details."
     ]
    }
   ],
   "source": [
    "%matplotlib inline\n",
    "\n",
    "# import numpy as np\n",
    "import matplotlib.pyplot as plt\n",
    "# import scipy.linalg as la\n",
    "import inspect\n",
    "\n",
    "from quantum_optimal_control.helper_functions.grape_functions import *\n",
    "from quantum_optimal_control.main_grape.grape import Grape\n",
    "\n",
    "date_path = '../output/x01_qutrit/'"
   ]
  },
  {
   "cell_type": "markdown",
   "metadata": {},
   "source": []
  }
 ],
 "metadata": {
  "kernelspec": {
   "display_name": "quantum",
   "language": "python",
   "name": "python3"
  },
  "language_info": {
   "codemirror_mode": {
    "name": "ipython",
    "version": 3
   },
   "file_extension": ".py",
   "mimetype": "text/x-python",
   "name": "python",
   "nbconvert_exporter": "python",
   "pygments_lexer": "ipython3",
   "version": "3.10.11"
  },
  "orig_nbformat": 4
 },
 "nbformat": 4,
 "nbformat_minor": 2
}
